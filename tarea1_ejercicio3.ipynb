{
  "nbformat": 4,
  "nbformat_minor": 0,
  "metadata": {
    "colab": {
      "provenance": [],
      "authorship_tag": "ABX9TyNkOBS5RRvlPnP/83Dsh/8x",
      "include_colab_link": true
    },
    "kernelspec": {
      "name": "python3",
      "display_name": "Python 3"
    },
    "language_info": {
      "name": "python"
    }
  },
  "cells": [
    {
      "cell_type": "markdown",
      "metadata": {
        "id": "view-in-github",
        "colab_type": "text"
      },
      "source": [
        "<a href=\"https://colab.research.google.com/github/sierragl2019/Primer-repositorio/blob/main/tarea1_ejercicio3.ipynb\" target=\"_parent\"><img src=\"https://colab.research.google.com/assets/colab-badge.svg\" alt=\"Open In Colab\"/></a>"
      ]
    },
    {
      "cell_type": "code",
      "execution_count": 64,
      "metadata": {
        "colab": {
          "base_uri": "https://localhost:8080/"
        },
        "id": "Yabe91FM7D6l",
        "outputId": "e416c808-d22c-423d-98fe-a58bb01c9ec2"
      },
      "outputs": [
        {
          "output_type": "stream",
          "name": "stdout",
          "text": [
            "La matriz A es \n",
            "[[  1   9  17  25 -99  41  49  57]\n",
            " [  2  10  18  26 -99  42  50  58]\n",
            " [-99  11  19  27 -99 -99  51  59]\n",
            " [  4  12  20  28 -99  44  52  60]\n",
            " [  5 -99  21  29 -99  45 -99  61]\n",
            " [  6  14  22 -99 -99  46  54  62]\n",
            " [  7  15 -99 -99 -99  47  55 -99]\n",
            " [  8  16  24 -99  40  48  56  64]]\n",
            "La matriz B es \n",
            "[[0.4  0.41 0.42 0.43 0.44]\n",
            " [0.45 0.46 0.47 0.48 0.49]\n",
            " [0.5  0.51 0.52 0.53 0.54]\n",
            " [0.55 0.56 0.57 0.58 0.59]\n",
            " [0.6  0.61 0.62 0.63 0.64]\n",
            " [0.65 0.66 0.67 0.68 0.69]\n",
            " [0.7  0.71 0.72 0.73 0.74]\n",
            " [0.75 0.76 0.77 0.78 0.79]]\n",
            "La matriz concatenada de A y B (matriz C) es \n",
            "[[  1.     9.    17.    25.   -99.    41.    49.    57.     0.4    0.41\n",
            "    0.42   0.43   0.44]\n",
            " [  2.    10.    18.    26.   -99.    42.    50.    58.     0.45   0.46\n",
            "    0.47   0.48   0.49]\n",
            " [-99.    11.    19.    27.   -99.   -99.    51.    59.     0.5    0.51\n",
            "    0.52   0.53   0.54]\n",
            " [  4.    12.    20.    28.   -99.    44.    52.    60.     0.55   0.56\n",
            "    0.57   0.58   0.59]\n",
            " [  5.   -99.    21.    29.   -99.    45.   -99.    61.     0.6    0.61\n",
            "    0.62   0.63   0.64]\n",
            " [  6.    14.    22.   -99.   -99.    46.    54.    62.     0.65   0.66\n",
            "    0.67   0.68   0.69]\n",
            " [  7.    15.   -99.   -99.   -99.    47.    55.   -99.     0.7    0.71\n",
            "    0.72   0.73   0.74]\n",
            " [  8.    16.    24.   -99.    40.    48.    56.    64.     0.75   0.76\n",
            "    0.77   0.78   0.79]]\n",
            "La matriz C con el promedio en la ultima fila (matriz F) es  \n",
            "[[  1.      9.     17.     25.    -99.     41.     49.     57.      0.4\n",
            "    0.41    0.42    0.43    0.44 ]\n",
            " [  2.     10.     18.     26.    -99.     42.     50.     58.      0.45\n",
            "    0.46    0.47    0.48    0.49 ]\n",
            " [-99.     11.     19.     27.    -99.    -99.     51.     59.      0.5\n",
            "    0.51    0.52    0.53    0.54 ]\n",
            " [  4.     12.     20.     28.    -99.     44.     52.     60.      0.55\n",
            "    0.56    0.57    0.58    0.59 ]\n",
            " [  5.    -99.     21.     29.    -99.     45.    -99.     61.      0.6\n",
            "    0.61    0.62    0.63    0.64 ]\n",
            " [  6.     14.     22.    -99.    -99.     46.     54.     62.      0.65\n",
            "    0.66    0.67    0.68    0.69 ]\n",
            " [  7.     15.    -99.    -99.    -99.     47.     55.    -99.      0.7\n",
            "    0.71    0.72    0.73    0.74 ]\n",
            " [  8.     16.     24.    -99.     40.     48.     56.     64.      0.75\n",
            "    0.76    0.77    0.78    0.79 ]\n",
            " [ -8.25   -1.5     5.25  -20.25  -81.625  26.75   33.5    40.25    0.575\n",
            "    0.585   0.595   0.605   0.   ]]\n",
            "La matriz F con el numero maximo en la ultima columna (matriz G) es  \n",
            "[[  1.      9.     17.     25.    -99.     41.     49.     57.      0.4\n",
            "    0.41    0.42    0.43    0.44   57.   ]\n",
            " [  2.     10.     18.     26.    -99.     42.     50.     58.      0.45\n",
            "    0.46    0.47    0.48    0.49   58.   ]\n",
            " [-99.     11.     19.     27.    -99.    -99.     51.     59.      0.5\n",
            "    0.51    0.52    0.53    0.54   59.   ]\n",
            " [  4.     12.     20.     28.    -99.     44.     52.     60.      0.55\n",
            "    0.56    0.57    0.58    0.59   60.   ]\n",
            " [  5.    -99.     21.     29.    -99.     45.    -99.     61.      0.6\n",
            "    0.61    0.62    0.63    0.64   61.   ]\n",
            " [  6.     14.     22.    -99.    -99.     46.     54.     62.      0.65\n",
            "    0.66    0.67    0.68    0.69   62.   ]\n",
            " [  7.     15.    -99.    -99.    -99.     47.     55.    -99.      0.7\n",
            "    0.71    0.72    0.73    0.74   55.   ]\n",
            " [  8.     16.     24.    -99.     40.     48.     56.     64.      0.75\n",
            "    0.76    0.77    0.78    0.79   64.   ]\n",
            " [ -8.25   -1.5     5.25  -20.25  -81.625  26.75   33.5    40.25    0.575\n",
            "    0.585   0.595   0.605   0.     40.25 ]]\n"
          ]
        }
      ],
      "source": [
        "import numpy as np\n",
        "p=np.zeros(13)\n",
        "max=np.zeros(9)\n",
        "A=np.array ([[1,9,17,25,-99,41,49,57],[2,10,18,26,-99,42,50,58],[-99,11,19,27,-99,-99,51,59],[4,12,20,28,-99,44,52,60],[5,-99,21,29,-99,45,-99,61],[6,14,22,-99,-99,46,54,62],[7,15,-99,-99,-99,47,55,-99],[8,16,24,-99,40,48,56,64]])\n",
        "D=np.arange(0.4,0.8,0.01)\n",
        "B=D.reshape(8,5)\n",
        "C=np.concatenate((A, B),axis=1)\n",
        "\n",
        "for i in range (0,12):\n",
        "  sum=0\n",
        "  for j in range (0,8):\n",
        "    sum=sum+C[j][i]\n",
        "  p[i]=sum/8\n",
        "\n",
        "\n",
        "E=np.concatenate((C, p),axis=None)\n",
        "F=E.reshape(9,13)\n",
        "\n",
        "\n",
        "for i in range (0,9):\n",
        "  v=0\n",
        "  for j in range (0,12):\n",
        "    if (F[i][j]>v):\n",
        "      v=F[i][j]\n",
        "    max[i]=v\n",
        "\n",
        "m=max.reshape(9,1)\n",
        "G=np.concatenate((F, m),axis=1)\n",
        "\n",
        "print (\"La matriz A es \")\n",
        "print (A)\n",
        "\n",
        "print (\"La matriz B es \")\n",
        "print (B)\n",
        "\n",
        "print (\"La matriz concatenada de A y B (matriz C) es \")\n",
        "print (C)\n",
        "\n",
        "print (\"La matriz C con el promedio en la ultima fila (matriz F) es  \")\n",
        "print (F)\n",
        "\n",
        "print (\"La matriz F con el numero maximo en la ultima columna (matriz G) es  \")\n",
        "print (G)"
      ]
    }
  ]
}