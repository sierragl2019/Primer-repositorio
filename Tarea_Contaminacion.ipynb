{
  "nbformat": 4,
  "nbformat_minor": 0,
  "metadata": {
    "colab": {
      "provenance": [],
      "authorship_tag": "ABX9TyOfQEVJ3Kpy/7Pw5TyrAEbg",
      "include_colab_link": true
    },
    "kernelspec": {
      "name": "python3",
      "display_name": "Python 3"
    },
    "language_info": {
      "name": "python"
    }
  },
  "cells": [
    {
      "cell_type": "markdown",
      "metadata": {
        "id": "view-in-github",
        "colab_type": "text"
      },
      "source": [
        "<a href=\"https://colab.research.google.com/github/sierragl2019/Primer-repositorio/blob/main/Tarea_Contaminacion.ipynb\" target=\"_parent\"><img src=\"https://colab.research.google.com/assets/colab-badge.svg\" alt=\"Open In Colab\"/></a>"
      ]
    },
    {
      "cell_type": "code",
      "execution_count": 50,
      "metadata": {
        "id": "TQZEslkwvPDc",
        "colab": {
          "base_uri": "https://localhost:8080/"
        },
        "outputId": "48174fb1-4184-431c-bf39-525d3d9a0f5c"
      },
      "outputs": [
        {
          "output_type": "stream",
          "name": "stdout",
          "text": [
            "Drive already mounted at /content/drive; to attempt to forcibly remount, call drive.mount(\"/content/drive\", force_remount=True).\n"
          ]
        }
      ],
      "source": [
        "import pandas as pd\n",
        "import numpy as np\n",
        "from google.colab import drive\n",
        "import matplotlib.pyplot as plot\n",
        "drive.mount('/content/drive')"
      ]
    },
    {
      "cell_type": "code",
      "source": [
        "# Obtener los datos\n",
        "df=pd.read_csv('/content/drive/MyDrive/Colab Notebooks/GCB2022v27_MtCO2_flat (1).csv')"
      ],
      "metadata": {
        "id": "3torGck-yiE1"
      },
      "execution_count": 57,
      "outputs": []
    },
    {
      "cell_type": "code",
      "source": [
        "#Desplegar los nombres de las columnas\n",
        "\n",
        "nombres=df.columns.values\n",
        "Nombres=list(nombres)\n",
        "print (\"Los nombres de las columnas son:\")\n",
        "for i in Nombres:\n",
        "  print(i)"
      ],
      "metadata": {
        "colab": {
          "base_uri": "https://localhost:8080/"
        },
        "id": "rmg5rYaFQ_ul",
        "outputId": "d67d7f0d-247d-4ac2-88f6-c4bcff04cd84"
      },
      "execution_count": 79,
      "outputs": [
        {
          "output_type": "stream",
          "name": "stdout",
          "text": [
            "Los nombres de las columnas son:\n",
            "Country\n",
            "ISO 3166-1 alpha-3\n",
            "Year\n",
            "Total\n",
            "Coal\n",
            "Oil\n",
            "Gas\n",
            "Cement\n",
            "Flaring\n",
            "Other\n",
            "Per Capita\n"
          ]
        }
      ]
    },
    {
      "cell_type": "code",
      "source": [
        "#Tipo de datos \n",
        "\n",
        "df.dtypes"
      ],
      "metadata": {
        "colab": {
          "base_uri": "https://localhost:8080/"
        },
        "id": "uB1TK5na4oDh",
        "outputId": "d8590b13-7b94-42ff-a90c-87d381844acf"
      },
      "execution_count": null,
      "outputs": [
        {
          "output_type": "execute_result",
          "data": {
            "text/plain": [
              "Country                object\n",
              "ISO 3166-1 alpha-3     object\n",
              "Year                    int64\n",
              "Total                 float64\n",
              "Coal                  float64\n",
              "Oil                   float64\n",
              "Gas                   float64\n",
              "Cement                float64\n",
              "Flaring               float64\n",
              "Other                 float64\n",
              "Per Capita            float64\n",
              "dtype: object"
            ]
          },
          "metadata": {},
          "execution_count": 8
        }
      ]
    },
    {
      "cell_type": "code",
      "source": [
        "#Distribucion de NaN\n",
        "\n",
        "df.info()"
      ],
      "metadata": {
        "colab": {
          "base_uri": "https://localhost:8080/"
        },
        "id": "BVa_ro0YQafD",
        "outputId": "b79d93b7-10f2-4518-daad-332653cdb3b4"
      },
      "execution_count": null,
      "outputs": [
        {
          "output_type": "stream",
          "name": "stdout",
          "text": [
            "<class 'pandas.core.frame.DataFrame'>\n",
            "RangeIndex: 63104 entries, 0 to 63103\n",
            "Data columns (total 11 columns):\n",
            " #   Column              Non-Null Count  Dtype  \n",
            "---  ------              --------------  -----  \n",
            " 0   Country             63104 non-null  object \n",
            " 1   ISO 3166-1 alpha-3  61472 non-null  object \n",
            " 2   Year                63104 non-null  int64  \n",
            " 3   Total               62904 non-null  float64\n",
            " 4   Coal                21744 non-null  float64\n",
            " 5   Oil                 21717 non-null  float64\n",
            " 6   Gas                 21618 non-null  float64\n",
            " 7   Cement              20814 non-null  float64\n",
            " 8   Flaring             21550 non-null  float64\n",
            " 9   Other               1620 non-null   float64\n",
            " 10  Per Capita          18974 non-null  float64\n",
            "dtypes: float64(8), int64(1), object(2)\n",
            "memory usage: 5.3+ MB\n"
          ]
        }
      ]
    },
    {
      "cell_type": "code",
      "source": [
        "df.isna().sum(axis=0)"
      ],
      "metadata": {
        "colab": {
          "base_uri": "https://localhost:8080/"
        },
        "id": "wOpzLcvRQibQ",
        "outputId": "3c7596fc-3c8e-4c0d-b6c0-c6f4112174f0"
      },
      "execution_count": null,
      "outputs": [
        {
          "output_type": "execute_result",
          "data": {
            "text/plain": [
              "Country                   0\n",
              "ISO 3166-1 alpha-3     1632\n",
              "Year                      0\n",
              "Total                   200\n",
              "Coal                  41360\n",
              "Oil                   41387\n",
              "Gas                   41486\n",
              "Cement                42290\n",
              "Flaring               41554\n",
              "Other                 61484\n",
              "Per Capita            44130\n",
              "dtype: int64"
            ]
          },
          "metadata": {},
          "execution_count": 44
        }
      ]
    },
    {
      "cell_type": "code",
      "source": [
        "# Obtener el numero de paises\n",
        "# En esta parte utilizamos groupby\n",
        "grupopais=df.groupby(['Country'])['Year'].max()\n",
        "cantidad=grupopais.size\n",
        "\n",
        "print (\"La cantidad de paises es de:\", cantidad)"
      ],
      "metadata": {
        "colab": {
          "base_uri": "https://localhost:8080/"
        },
        "id": "xWEW6Kd29W4u",
        "outputId": "b07c3d12-ebb5-4503-a7c4-e75e245588ea"
      },
      "execution_count": 80,
      "outputs": [
        {
          "output_type": "stream",
          "name": "stdout",
          "text": [
            "La cantidad de paises es de: 232\n"
          ]
        }
      ]
    },
    {
      "cell_type": "code",
      "source": [
        "# Buscar datos de México\n",
        "df1=df[(df['Country'] == 'Mexico')]\n",
        "df1.head(3)"
      ],
      "metadata": {
        "colab": {
          "base_uri": "https://localhost:8080/",
          "height": 143
        },
        "id": "VpC-uGRt54vK",
        "outputId": "8454a932-2150-4d96-b3c4-ec91c18ab43b"
      },
      "execution_count": 58,
      "outputs": [
        {
          "output_type": "execute_result",
          "data": {
            "text/plain": [
              "      Country ISO 3166-1 alpha-3  Year  Total  Coal  Oil  Gas  Cement  \\\n",
              "36176  Mexico                MEX  1750    0.0   NaN  NaN  NaN     NaN   \n",
              "36177  Mexico                MEX  1751    0.0   NaN  NaN  NaN     NaN   \n",
              "36178  Mexico                MEX  1752    0.0   NaN  NaN  NaN     NaN   \n",
              "\n",
              "       Flaring  Other  Per Capita  \n",
              "36176      NaN    NaN         NaN  \n",
              "36177      NaN    NaN         NaN  \n",
              "36178      NaN    NaN         NaN  "
            ],
            "text/html": [
              "\n",
              "  <div id=\"df-90b82229-1a3a-4cfe-911a-bac3d035118e\">\n",
              "    <div class=\"colab-df-container\">\n",
              "      <div>\n",
              "<style scoped>\n",
              "    .dataframe tbody tr th:only-of-type {\n",
              "        vertical-align: middle;\n",
              "    }\n",
              "\n",
              "    .dataframe tbody tr th {\n",
              "        vertical-align: top;\n",
              "    }\n",
              "\n",
              "    .dataframe thead th {\n",
              "        text-align: right;\n",
              "    }\n",
              "</style>\n",
              "<table border=\"1\" class=\"dataframe\">\n",
              "  <thead>\n",
              "    <tr style=\"text-align: right;\">\n",
              "      <th></th>\n",
              "      <th>Country</th>\n",
              "      <th>ISO 3166-1 alpha-3</th>\n",
              "      <th>Year</th>\n",
              "      <th>Total</th>\n",
              "      <th>Coal</th>\n",
              "      <th>Oil</th>\n",
              "      <th>Gas</th>\n",
              "      <th>Cement</th>\n",
              "      <th>Flaring</th>\n",
              "      <th>Other</th>\n",
              "      <th>Per Capita</th>\n",
              "    </tr>\n",
              "  </thead>\n",
              "  <tbody>\n",
              "    <tr>\n",
              "      <th>36176</th>\n",
              "      <td>Mexico</td>\n",
              "      <td>MEX</td>\n",
              "      <td>1750</td>\n",
              "      <td>0.0</td>\n",
              "      <td>NaN</td>\n",
              "      <td>NaN</td>\n",
              "      <td>NaN</td>\n",
              "      <td>NaN</td>\n",
              "      <td>NaN</td>\n",
              "      <td>NaN</td>\n",
              "      <td>NaN</td>\n",
              "    </tr>\n",
              "    <tr>\n",
              "      <th>36177</th>\n",
              "      <td>Mexico</td>\n",
              "      <td>MEX</td>\n",
              "      <td>1751</td>\n",
              "      <td>0.0</td>\n",
              "      <td>NaN</td>\n",
              "      <td>NaN</td>\n",
              "      <td>NaN</td>\n",
              "      <td>NaN</td>\n",
              "      <td>NaN</td>\n",
              "      <td>NaN</td>\n",
              "      <td>NaN</td>\n",
              "    </tr>\n",
              "    <tr>\n",
              "      <th>36178</th>\n",
              "      <td>Mexico</td>\n",
              "      <td>MEX</td>\n",
              "      <td>1752</td>\n",
              "      <td>0.0</td>\n",
              "      <td>NaN</td>\n",
              "      <td>NaN</td>\n",
              "      <td>NaN</td>\n",
              "      <td>NaN</td>\n",
              "      <td>NaN</td>\n",
              "      <td>NaN</td>\n",
              "      <td>NaN</td>\n",
              "    </tr>\n",
              "  </tbody>\n",
              "</table>\n",
              "</div>\n",
              "      <button class=\"colab-df-convert\" onclick=\"convertToInteractive('df-90b82229-1a3a-4cfe-911a-bac3d035118e')\"\n",
              "              title=\"Convert this dataframe to an interactive table.\"\n",
              "              style=\"display:none;\">\n",
              "        \n",
              "  <svg xmlns=\"http://www.w3.org/2000/svg\" height=\"24px\"viewBox=\"0 0 24 24\"\n",
              "       width=\"24px\">\n",
              "    <path d=\"M0 0h24v24H0V0z\" fill=\"none\"/>\n",
              "    <path d=\"M18.56 5.44l.94 2.06.94-2.06 2.06-.94-2.06-.94-.94-2.06-.94 2.06-2.06.94zm-11 1L8.5 8.5l.94-2.06 2.06-.94-2.06-.94L8.5 2.5l-.94 2.06-2.06.94zm10 10l.94 2.06.94-2.06 2.06-.94-2.06-.94-.94-2.06-.94 2.06-2.06.94z\"/><path d=\"M17.41 7.96l-1.37-1.37c-.4-.4-.92-.59-1.43-.59-.52 0-1.04.2-1.43.59L10.3 9.45l-7.72 7.72c-.78.78-.78 2.05 0 2.83L4 21.41c.39.39.9.59 1.41.59.51 0 1.02-.2 1.41-.59l7.78-7.78 2.81-2.81c.8-.78.8-2.07 0-2.86zM5.41 20L4 18.59l7.72-7.72 1.47 1.35L5.41 20z\"/>\n",
              "  </svg>\n",
              "      </button>\n",
              "      \n",
              "  <style>\n",
              "    .colab-df-container {\n",
              "      display:flex;\n",
              "      flex-wrap:wrap;\n",
              "      gap: 12px;\n",
              "    }\n",
              "\n",
              "    .colab-df-convert {\n",
              "      background-color: #E8F0FE;\n",
              "      border: none;\n",
              "      border-radius: 50%;\n",
              "      cursor: pointer;\n",
              "      display: none;\n",
              "      fill: #1967D2;\n",
              "      height: 32px;\n",
              "      padding: 0 0 0 0;\n",
              "      width: 32px;\n",
              "    }\n",
              "\n",
              "    .colab-df-convert:hover {\n",
              "      background-color: #E2EBFA;\n",
              "      box-shadow: 0px 1px 2px rgba(60, 64, 67, 0.3), 0px 1px 3px 1px rgba(60, 64, 67, 0.15);\n",
              "      fill: #174EA6;\n",
              "    }\n",
              "\n",
              "    [theme=dark] .colab-df-convert {\n",
              "      background-color: #3B4455;\n",
              "      fill: #D2E3FC;\n",
              "    }\n",
              "\n",
              "    [theme=dark] .colab-df-convert:hover {\n",
              "      background-color: #434B5C;\n",
              "      box-shadow: 0px 1px 3px 1px rgba(0, 0, 0, 0.15);\n",
              "      filter: drop-shadow(0px 1px 2px rgba(0, 0, 0, 0.3));\n",
              "      fill: #FFFFFF;\n",
              "    }\n",
              "  </style>\n",
              "\n",
              "      <script>\n",
              "        const buttonEl =\n",
              "          document.querySelector('#df-90b82229-1a3a-4cfe-911a-bac3d035118e button.colab-df-convert');\n",
              "        buttonEl.style.display =\n",
              "          google.colab.kernel.accessAllowed ? 'block' : 'none';\n",
              "\n",
              "        async function convertToInteractive(key) {\n",
              "          const element = document.querySelector('#df-90b82229-1a3a-4cfe-911a-bac3d035118e');\n",
              "          const dataTable =\n",
              "            await google.colab.kernel.invokeFunction('convertToInteractive',\n",
              "                                                     [key], {});\n",
              "          if (!dataTable) return;\n",
              "\n",
              "          const docLinkHtml = 'Like what you see? Visit the ' +\n",
              "            '<a target=\"_blank\" href=https://colab.research.google.com/notebooks/data_table.ipynb>data table notebook</a>'\n",
              "            + ' to learn more about interactive tables.';\n",
              "          element.innerHTML = '';\n",
              "          dataTable['output_type'] = 'display_data';\n",
              "          await google.colab.output.renderOutput(dataTable, element);\n",
              "          const docLink = document.createElement('div');\n",
              "          docLink.innerHTML = docLinkHtml;\n",
              "          element.appendChild(docLink);\n",
              "        }\n",
              "      </script>\n",
              "    </div>\n",
              "  </div>\n",
              "  "
            ]
          },
          "metadata": {},
          "execution_count": 58
        }
      ]
    },
    {
      "cell_type": "code",
      "source": [
        "# Buscar los datos Globales \n",
        "df2 = df[(df['Country'] == 'Global')]\n",
        "df2.head(3)"
      ],
      "metadata": {
        "colab": {
          "base_uri": "https://localhost:8080/",
          "height": 143
        },
        "id": "YJbfJ6G23_2k",
        "outputId": "f7472949-7281-45af-a311-6c7e2ac1a8bb"
      },
      "execution_count": 59,
      "outputs": [
        {
          "output_type": "execute_result",
          "data": {
            "text/plain": [
              "      Country ISO 3166-1 alpha-3  Year     Total      Coal  Oil  Gas  Cement  \\\n",
              "62832  Global                WLD  1750  9.350528  9.350528  NaN  NaN     NaN   \n",
              "62833  Global                WLD  1751  9.350528  9.350528  NaN  NaN     NaN   \n",
              "62834  Global                WLD  1752  9.354192  9.354192  NaN  NaN     NaN   \n",
              "\n",
              "       Flaring  Other  Per Capita  \n",
              "62832      NaN    NaN    0.011492  \n",
              "62833      NaN    NaN    0.011438  \n",
              "62834      NaN    NaN    0.011390  "
            ],
            "text/html": [
              "\n",
              "  <div id=\"df-2393eebc-dfff-409f-9be3-3e5c8f7c81b6\">\n",
              "    <div class=\"colab-df-container\">\n",
              "      <div>\n",
              "<style scoped>\n",
              "    .dataframe tbody tr th:only-of-type {\n",
              "        vertical-align: middle;\n",
              "    }\n",
              "\n",
              "    .dataframe tbody tr th {\n",
              "        vertical-align: top;\n",
              "    }\n",
              "\n",
              "    .dataframe thead th {\n",
              "        text-align: right;\n",
              "    }\n",
              "</style>\n",
              "<table border=\"1\" class=\"dataframe\">\n",
              "  <thead>\n",
              "    <tr style=\"text-align: right;\">\n",
              "      <th></th>\n",
              "      <th>Country</th>\n",
              "      <th>ISO 3166-1 alpha-3</th>\n",
              "      <th>Year</th>\n",
              "      <th>Total</th>\n",
              "      <th>Coal</th>\n",
              "      <th>Oil</th>\n",
              "      <th>Gas</th>\n",
              "      <th>Cement</th>\n",
              "      <th>Flaring</th>\n",
              "      <th>Other</th>\n",
              "      <th>Per Capita</th>\n",
              "    </tr>\n",
              "  </thead>\n",
              "  <tbody>\n",
              "    <tr>\n",
              "      <th>62832</th>\n",
              "      <td>Global</td>\n",
              "      <td>WLD</td>\n",
              "      <td>1750</td>\n",
              "      <td>9.350528</td>\n",
              "      <td>9.350528</td>\n",
              "      <td>NaN</td>\n",
              "      <td>NaN</td>\n",
              "      <td>NaN</td>\n",
              "      <td>NaN</td>\n",
              "      <td>NaN</td>\n",
              "      <td>0.011492</td>\n",
              "    </tr>\n",
              "    <tr>\n",
              "      <th>62833</th>\n",
              "      <td>Global</td>\n",
              "      <td>WLD</td>\n",
              "      <td>1751</td>\n",
              "      <td>9.350528</td>\n",
              "      <td>9.350528</td>\n",
              "      <td>NaN</td>\n",
              "      <td>NaN</td>\n",
              "      <td>NaN</td>\n",
              "      <td>NaN</td>\n",
              "      <td>NaN</td>\n",
              "      <td>0.011438</td>\n",
              "    </tr>\n",
              "    <tr>\n",
              "      <th>62834</th>\n",
              "      <td>Global</td>\n",
              "      <td>WLD</td>\n",
              "      <td>1752</td>\n",
              "      <td>9.354192</td>\n",
              "      <td>9.354192</td>\n",
              "      <td>NaN</td>\n",
              "      <td>NaN</td>\n",
              "      <td>NaN</td>\n",
              "      <td>NaN</td>\n",
              "      <td>NaN</td>\n",
              "      <td>0.011390</td>\n",
              "    </tr>\n",
              "  </tbody>\n",
              "</table>\n",
              "</div>\n",
              "      <button class=\"colab-df-convert\" onclick=\"convertToInteractive('df-2393eebc-dfff-409f-9be3-3e5c8f7c81b6')\"\n",
              "              title=\"Convert this dataframe to an interactive table.\"\n",
              "              style=\"display:none;\">\n",
              "        \n",
              "  <svg xmlns=\"http://www.w3.org/2000/svg\" height=\"24px\"viewBox=\"0 0 24 24\"\n",
              "       width=\"24px\">\n",
              "    <path d=\"M0 0h24v24H0V0z\" fill=\"none\"/>\n",
              "    <path d=\"M18.56 5.44l.94 2.06.94-2.06 2.06-.94-2.06-.94-.94-2.06-.94 2.06-2.06.94zm-11 1L8.5 8.5l.94-2.06 2.06-.94-2.06-.94L8.5 2.5l-.94 2.06-2.06.94zm10 10l.94 2.06.94-2.06 2.06-.94-2.06-.94-.94-2.06-.94 2.06-2.06.94z\"/><path d=\"M17.41 7.96l-1.37-1.37c-.4-.4-.92-.59-1.43-.59-.52 0-1.04.2-1.43.59L10.3 9.45l-7.72 7.72c-.78.78-.78 2.05 0 2.83L4 21.41c.39.39.9.59 1.41.59.51 0 1.02-.2 1.41-.59l7.78-7.78 2.81-2.81c.8-.78.8-2.07 0-2.86zM5.41 20L4 18.59l7.72-7.72 1.47 1.35L5.41 20z\"/>\n",
              "  </svg>\n",
              "      </button>\n",
              "      \n",
              "  <style>\n",
              "    .colab-df-container {\n",
              "      display:flex;\n",
              "      flex-wrap:wrap;\n",
              "      gap: 12px;\n",
              "    }\n",
              "\n",
              "    .colab-df-convert {\n",
              "      background-color: #E8F0FE;\n",
              "      border: none;\n",
              "      border-radius: 50%;\n",
              "      cursor: pointer;\n",
              "      display: none;\n",
              "      fill: #1967D2;\n",
              "      height: 32px;\n",
              "      padding: 0 0 0 0;\n",
              "      width: 32px;\n",
              "    }\n",
              "\n",
              "    .colab-df-convert:hover {\n",
              "      background-color: #E2EBFA;\n",
              "      box-shadow: 0px 1px 2px rgba(60, 64, 67, 0.3), 0px 1px 3px 1px rgba(60, 64, 67, 0.15);\n",
              "      fill: #174EA6;\n",
              "    }\n",
              "\n",
              "    [theme=dark] .colab-df-convert {\n",
              "      background-color: #3B4455;\n",
              "      fill: #D2E3FC;\n",
              "    }\n",
              "\n",
              "    [theme=dark] .colab-df-convert:hover {\n",
              "      background-color: #434B5C;\n",
              "      box-shadow: 0px 1px 3px 1px rgba(0, 0, 0, 0.15);\n",
              "      filter: drop-shadow(0px 1px 2px rgba(0, 0, 0, 0.3));\n",
              "      fill: #FFFFFF;\n",
              "    }\n",
              "  </style>\n",
              "\n",
              "      <script>\n",
              "        const buttonEl =\n",
              "          document.querySelector('#df-2393eebc-dfff-409f-9be3-3e5c8f7c81b6 button.colab-df-convert');\n",
              "        buttonEl.style.display =\n",
              "          google.colab.kernel.accessAllowed ? 'block' : 'none';\n",
              "\n",
              "        async function convertToInteractive(key) {\n",
              "          const element = document.querySelector('#df-2393eebc-dfff-409f-9be3-3e5c8f7c81b6');\n",
              "          const dataTable =\n",
              "            await google.colab.kernel.invokeFunction('convertToInteractive',\n",
              "                                                     [key], {});\n",
              "          if (!dataTable) return;\n",
              "\n",
              "          const docLinkHtml = 'Like what you see? Visit the ' +\n",
              "            '<a target=\"_blank\" href=https://colab.research.google.com/notebooks/data_table.ipynb>data table notebook</a>'\n",
              "            + ' to learn more about interactive tables.';\n",
              "          element.innerHTML = '';\n",
              "          dataTable['output_type'] = 'display_data';\n",
              "          await google.colab.output.renderOutput(dataTable, element);\n",
              "          const docLink = document.createElement('div');\n",
              "          docLink.innerHTML = docLinkHtml;\n",
              "          element.appendChild(docLink);\n",
              "        }\n",
              "      </script>\n",
              "    </div>\n",
              "  </div>\n",
              "  "
            ]
          },
          "metadata": {},
          "execution_count": 59
        }
      ]
    },
    {
      "cell_type": "code",
      "source": [
        "#Eliminacion de NaN\n",
        "\n",
        "Datlimpio=df.fillna(0)\n",
        "Mex=df1.fillna(0)\n",
        "Glob=df2.fillna(0)"
      ],
      "metadata": {
        "id": "Wj4-lfJg7Klf"
      },
      "execution_count": null,
      "outputs": []
    },
    {
      "cell_type": "code",
      "source": [
        "#Graficas de Mexico vs Global\n",
        "\n",
        "y1=Mex[['Total']]\n",
        "x1=Mex[['Year']]\n",
        "y2=Glob[['Total']]\n",
        "plot.plot(x1, y1, label ='Mexico')\n",
        "plot.plot(x1, y2, label ='Global')\n",
        "plot.xlabel('Year')\n",
        "plot.ylabel('Total')\n",
        "plot.legend()"
      ],
      "metadata": {
        "colab": {
          "base_uri": "https://localhost:8080/",
          "height": 296
        },
        "id": "BOQwfGieAA_L",
        "outputId": "635a91f1-caaf-40e1-965b-73b8a0da00f2"
      },
      "execution_count": null,
      "outputs": [
        {
          "output_type": "execute_result",
          "data": {
            "text/plain": [
              "<matplotlib.legend.Legend at 0x7f0ba1acc9d0>"
            ]
          },
          "metadata": {},
          "execution_count": 11
        },
        {
          "output_type": "display_data",
          "data": {
            "text/plain": [
              "<Figure size 432x288 with 1 Axes>"
            ],
            "image/png": "[encoded data removed]"
          },
          "metadata": {
            "needs_background": "light"
          }
        }
      ]
    },
    {
      "cell_type": "code",
      "source": [
        "y1=Mex[['Coal']]\n",
        "x1=Mex[['Year']]\n",
        "y2=Glob[['Coal']]\n",
        "plot.plot(x1, y1, label ='Mexico')\n",
        "plot.plot(x1, y2, label ='Global')\n",
        "plot.xlabel('Year')\n",
        "plot.ylabel('Coal')\n",
        "plot.legend()"
      ],
      "metadata": {
        "colab": {
          "base_uri": "https://localhost:8080/",
          "height": 296
        },
        "id": "H422ABHAIkWa",
        "outputId": "28a21398-5057-4fc7-c051-a5f9a7b94e20"
      },
      "execution_count": null,
      "outputs": [
        {
          "output_type": "execute_result",
          "data": {
            "text/plain": [
              "<matplotlib.legend.Legend at 0x7f0b9ed51be0>"
            ]
          },
          "metadata": {},
          "execution_count": 12
        },
        {
          "output_type": "display_data",
          "data": {
            "text/plain": [
              "<Figure size 432x288 with 1 Axes>"
            ],
            "image/png": "[encoded data removed]"
          },
          "metadata": {
            "needs_background": "light"
          }
        }
      ]
    },
    {
      "cell_type": "code",
      "source": [
        "y1=Mex[['Oil']]\n",
        "x1=Mex[['Year']]\n",
        "y2=Glob[['Oil']]\n",
        "plot.plot(x1, y1, label ='Mexico')\n",
        "plot.plot(x1, y2, label ='Global')\n",
        "plot.xlabel('Year')\n",
        "plot.ylabel('Oil')\n",
        "plot.legend()"
      ],
      "metadata": {
        "colab": {
          "base_uri": "https://localhost:8080/",
          "height": 296
        },
        "id": "8ORvAIi9IyV2",
        "outputId": "5ffae4cd-365c-4e74-e7d1-01383d42938f"
      },
      "execution_count": null,
      "outputs": [
        {
          "output_type": "execute_result",
          "data": {
            "text/plain": [
              "<matplotlib.legend.Legend at 0x7f0b9eceebe0>"
            ]
          },
          "metadata": {},
          "execution_count": 13
        },
        {
          "output_type": "display_data",
          "data": {
            "text/plain": [
              "<Figure size 432x288 with 1 Axes>"
            ],
            "image/png": "[encoded data removed]"
          },
          "metadata": {
            "needs_background": "light"
          }
        }
      ]
    },
    {
      "cell_type": "code",
      "source": [
        "y1=Mex[['Gas']]\n",
        "x1=Mex[['Year']]\n",
        "y2=Glob[['Gas']]\n",
        "plot.plot(x1, y1, label ='Mexico')\n",
        "plot.plot(x1, y2, label ='Global')\n",
        "plot.xlabel('Year')\n",
        "plot.ylabel('Gas')\n",
        "plot.legend()"
      ],
      "metadata": {
        "colab": {
          "base_uri": "https://localhost:8080/",
          "height": 296
        },
        "id": "5T5v3vAuI9nG",
        "outputId": "3ad9aae3-5af3-4961-cb01-064aca615628"
      },
      "execution_count": null,
      "outputs": [
        {
          "output_type": "execute_result",
          "data": {
            "text/plain": [
              "<matplotlib.legend.Legend at 0x7f0b9ebbd520>"
            ]
          },
          "metadata": {},
          "execution_count": 14
        },
        {
          "output_type": "display_data",
          "data": {
            "text/plain": [
              "<Figure size 432x288 with 1 Axes>"
            ],
            "image/png": "[encoded data removed]"
          },
          "metadata": {
            "needs_background": "light"
          }
        }
      ]
    },
    {
      "cell_type": "code",
      "source": [
        "y1=Mex[['Cement']]\n",
        "x1=Mex[['Year']]\n",
        "y2=Glob[['Cement']]\n",
        "plot.plot(x1, y1, label ='Mexico')\n",
        "plot.plot(x1, y2, label ='Global')\n",
        "plot.xlabel('Year')\n",
        "plot.ylabel('Cement')\n",
        "plot.legend()"
      ],
      "metadata": {
        "id": "jdlB5eIKJFJU",
        "colab": {
          "base_uri": "https://localhost:8080/",
          "height": 300
        },
        "outputId": "8dc54d20-3e30-466f-8bdf-6328ed98608d"
      },
      "execution_count": null,
      "outputs": [
        {
          "output_type": "execute_result",
          "data": {
            "text/plain": [
              "<matplotlib.legend.Legend at 0x7f0b9eb40f10>"
            ]
          },
          "metadata": {},
          "execution_count": 15
        },
        {
          "output_type": "display_data",
          "data": {
            "text/plain": [
              "<Figure size 432x288 with 1 Axes>"
            ],
            "image/png": "[encoded data removed]"
          },
          "metadata": {
            "needs_background": "light"
          }
        }
      ]
    },
    {
      "cell_type": "code",
      "source": [
        "y1=Mex[['Flaring']] \n",
        "x1=Mex[['Year']] \n",
        "y2=Glob[['Flaring']] \n",
        "plot.plot(x1, y1, label ='Mexico')\n",
        "plot.plot(x1, y2, label ='Global')\n",
        "plot.xlabel('Year')\n",
        "plot.ylabel('Flaring')\n",
        "plot.legend()"
      ],
      "metadata": {
        "colab": {
          "base_uri": "https://localhost:8080/",
          "height": 296
        },
        "id": "aCaVyA1ad0Os",
        "outputId": "920ede97-384f-4c23-d7c4-b1459cac4ecc"
      },
      "execution_count": null,
      "outputs": [
        {
          "output_type": "execute_result",
          "data": {
            "text/plain": [
              "<matplotlib.legend.Legend at 0x7f0b9eadc760>"
            ]
          },
          "metadata": {},
          "execution_count": 16
        },
        {
          "output_type": "display_data",
          "data": {
            "text/plain": [
              "<Figure size 432x288 with 1 Axes>"
            ],
            "image/png": "[encoded data removed]"
          },
          "metadata": {
            "needs_background": "light"
          }
        }
      ]
    },
    {
      "cell_type": "code",
      "source": [
        "y1=Mex[['Per Capita']] \n",
        "x1=Mex[['Year']] \n",
        "y2=Glob[['Per Capita']] \n",
        "plot.plot(x1, y1, label ='Mexico')\n",
        "plot.plot(x1, y2, label ='Global')\n",
        "plot.xlabel('Year')\n",
        "plot.ylabel('Per Capita')\n",
        "plot.legend()"
      ],
      "metadata": {
        "colab": {
          "base_uri": "https://localhost:8080/",
          "height": 296
        },
        "id": "e7no_m52eIXu",
        "outputId": "151b2d99-50ae-492d-f09f-7a293ab2b8a8"
      },
      "execution_count": null,
      "outputs": [
        {
          "output_type": "execute_result",
          "data": {
            "text/plain": [
              "<matplotlib.legend.Legend at 0x7f0b9ea66400>"
            ]
          },
          "metadata": {},
          "execution_count": 17
        },
        {
          "output_type": "display_data",
          "data": {
            "text/plain": [
              "<Figure size 432x288 with 1 Axes>"
            ],
            "image/png": "[encoded data removed]"
          },
          "metadata": {
            "needs_background": "light"
          }
        }
      ]
    },
    {
      "cell_type": "code",
      "source": [
        "#Obtención de los datos en G20\n",
        "\n",
        "Ale= Datlimpio[(Datlimpio['Country'] == 'Germany')]\n",
        "Ara= Datlimpio[(Datlimpio['Country'] == 'Saudi Arabia')]\n",
        "Argen= Datlimpio[(Datlimpio['Country']== 'Argentina')]\n",
        "Austr = Datlimpio[(Datlimpio['Country'] == 'Australia')]\n",
        "Bra = Datlimpio[(Datlimpio['Country'] == 'Brazil')]\n",
        "Can = Datlimpio[(Datlimpio['Country'] == 'Canada')]\n",
        "Chi = Datlimpio[(Datlimpio['Country'] == 'China')]\n",
        "Corea= Datlimpio[(Datlimpio['Country'] == 'South Korea')]\n",
        "Eu = Datlimpio[(Datlimpio['Country'] == 'USA')]\n",
        "Fran = Datlimpio[(Datlimpio['Country'] == 'Franse')]\n",
        "In = Datlimpio[(Datlimpio['Country'] == 'India')]\n",
        "Indon = Datlimpio[(Datlimpio['Country'] == 'Indonesia')]\n",
        "Ital = Datlimpio[(Datlimpio['Country'] == 'Italia')]\n",
        "Jap = Datlimpio[(Datlimpio['Country'] == 'Japon')]\n",
        "Rei = Datlimpio[(Datlimpio['Country'] == 'United Kingdom')]\n",
        "Rus = Datlimpio[(Datlimpio['Country'] == 'Rusia')]\n",
        "Sud = Datlimpio[(Datlimpio['Country'] == 'South Africa')]\n",
        "\n",
        "G20=pd.concat([Mex, Ale, Ara, Argen, Austr, Bra, Can, Chi, Corea, Eu, Fran, In, Indon, Ital, Jap, Rei, Rus, Sud])"
      ],
      "metadata": {
        "id": "FeA5eZUge34M"
      },
      "execution_count": null,
      "outputs": []
    },
    {
      "cell_type": "code",
      "source": [
        "#Graficas de G20"
      ],
      "metadata": {
        "id": "cKKDCiIHJ7Ov"
      },
      "execution_count": null,
      "outputs": []
    },
    {
      "cell_type": "code",
      "source": [
        "y1=Mex[['Total']]\n",
        "y2=Ale[['Total']]\n",
        "y3=Ara[['Total']]\n",
        "y4=Argen[['Total']]\n",
        "y5=Austr[['Total']]\n",
        "y6=Bra[['Total']]\n",
        "y7=Can[['Total']]\n",
        "y8=Chi[['Total']]\n",
        "y9=Corea[['Total']]\n",
        "y10=Eu[['Total']]\n",
        "y11=Fran[['Total']]\n",
        "y12=In[['Total']]\n",
        "y13=Indon[['Total']]\n",
        "y14=Ital[['Total']]\n",
        "y15=Jap[['Total']]\n",
        "y16=Rei[['Total']]\n",
        "y17=Rus[['Total']]\n",
        "y18=Sud[['Total']]\n",
        "y19=Glob[['Total']]\n",
        "x2=Fran[['Year']]\n",
        "plot.plot(x1, y1)\n",
        "plot.plot(x1, y2)\n",
        "plot.plot(x1, y3)\n",
        "plot.plot(x1, y4)\n",
        "plot.plot(x1, y5)\n",
        "plot.plot(x1, y6)\n",
        "plot.plot(x1, y7)\n",
        "plot.plot(x1, y8)\n",
        "plot.plot(x1, y9)\n",
        "plot.plot(x1, y10)\n",
        "plot.plot(x2, y11)\n",
        "plot.plot(x1, y12)\n",
        "plot.plot(x1, y13)\n",
        "plot.plot(x2, y14)\n",
        "plot.plot(x2, y15)\n",
        "plot.plot(x1, y16)\n",
        "plot.plot(x2, y17)\n",
        "plot.plot(x1, y18)\n",
        "plot.plot(x1, y19)\n",
        "plot.xlabel('Year')\n",
        "plot.ylabel('Total')"
      ],
      "metadata": {
        "colab": {
          "base_uri": "https://localhost:8080/",
          "height": 296
        },
        "id": "3TlB-6uA5C9k",
        "outputId": "c754781e-cce4-4de5-e809-ce4edcbdca25"
      },
      "execution_count": null,
      "outputs": [
        {
          "output_type": "execute_result",
          "data": {
            "text/plain": [
              "Text(0, 0.5, 'Total')"
            ]
          },
          "metadata": {},
          "execution_count": 20
        },
        {
          "output_type": "display_data",
          "data": {
            "text/plain": [
              "<Figure size 432x288 with 1 Axes>"
            ],
            "image/png": "[encoded data removed]"
          },
          "metadata": {
            "needs_background": "light"
          }
        }
      ]
    },
    {
      "cell_type": "code",
      "source": [
        "y1=Mex[['Coal']]\n",
        "y2=Ale[['Coal']]\n",
        "y3=Ara[['Coal']]\n",
        "y4=Argen[['Coal']]\n",
        "y5=Austr[['Coal']]\n",
        "y6=Bra[['Coal']]\n",
        "y7=Can[['Coal']]\n",
        "y8=Chi[['Coal']]\n",
        "y9=Corea[['Coal']]\n",
        "y10=Eu[['Coal']]\n",
        "y11=Fran[['Coal']]\n",
        "y12=In[['Coal']]\n",
        "y13=Indon[['Coal']]\n",
        "y14=Ital[['Coal']]\n",
        "y15=Jap[['Coal']]\n",
        "y16=Rei[['Coal']]\n",
        "y17=Rus[['Coal']]\n",
        "y18=Sud[['Coal']]\n",
        "y19=Glob[['Coal']]\n",
        "x2=Fran[['Year']]\n",
        "plot.plot(x1, y1)\n",
        "plot.plot(x1, y2)\n",
        "plot.plot(x1, y3)\n",
        "plot.plot(x1, y4)\n",
        "plot.plot(x1, y5)\n",
        "plot.plot(x1, y6)\n",
        "plot.plot(x1, y7)\n",
        "plot.plot(x1, y8)\n",
        "plot.plot(x1, y9)\n",
        "plot.plot(x1, y10)\n",
        "plot.plot(x2, y11)\n",
        "plot.plot(x1, y12)\n",
        "plot.plot(x1, y13)\n",
        "plot.plot(x2, y14)\n",
        "plot.plot(x2, y15)\n",
        "plot.plot(x1, y16)\n",
        "plot.plot(x2, y17)\n",
        "plot.plot(x1, y18)\n",
        "plot.plot(x1, y19)\n",
        "plot.xlabel('Year')\n",
        "plot.ylabel('Coal')"
      ],
      "metadata": {
        "colab": {
          "base_uri": "https://localhost:8080/",
          "height": 296
        },
        "id": "YdyJ6IZ37PI7",
        "outputId": "b569eff4-aa41-4963-eedd-9165a481774e"
      },
      "execution_count": null,
      "outputs": [
        {
          "output_type": "execute_result",
          "data": {
            "text/plain": [
              "Text(0, 0.5, 'Coal')"
            ]
          },
          "metadata": {},
          "execution_count": 21
        },
        {
          "output_type": "display_data",
          "data": {
            "text/plain": [
              "<Figure size 432x288 with 1 Axes>"
            ],
            "image/png": "[encoded data removed]"
          },
          "metadata": {
            "needs_background": "light"
          }
        }
      ]
    },
    {
      "cell_type": "code",
      "source": [
        "y1=Mex[['Oil']]\n",
        "y2=Ale[['Oil']]\n",
        "y3=Ara[['Oil']]\n",
        "y4=Argen[['Oil']]\n",
        "y5=Austr[['Oil']]\n",
        "y6=Bra[['Oil']]\n",
        "y7=Can[['Oil']]\n",
        "y8=Chi[['Oil']]\n",
        "y9=Corea[['Oil']]\n",
        "y10=Eu[['Oil']]\n",
        "y11=Fran[['Oil']]\n",
        "y12=In[['Oil']]\n",
        "y13=Indon[['Oil']]\n",
        "y14=Ital[['Oil']]\n",
        "y15=Jap[['Oil']]\n",
        "y16=Rei[['Oil']]\n",
        "y17=Rus[['Oil']]\n",
        "y18=Sud[['Oil']]\n",
        "y19=Glob[['Oil']]\n",
        "x2=Fran[['Year']]\n",
        "plot.plot(x1, y1)\n",
        "plot.plot(x1, y2)\n",
        "plot.plot(x1, y3)\n",
        "plot.plot(x1, y4)\n",
        "plot.plot(x1, y5)\n",
        "plot.plot(x1, y6)\n",
        "plot.plot(x1, y7)\n",
        "plot.plot(x1, y8)\n",
        "plot.plot(x1, y9)\n",
        "plot.plot(x1, y10)\n",
        "plot.plot(x2, y11)\n",
        "plot.plot(x1, y12)\n",
        "plot.plot(x1, y13)\n",
        "plot.plot(x2, y14)\n",
        "plot.plot(x2, y15)\n",
        "plot.plot(x1, y16)\n",
        "plot.plot(x2, y17)\n",
        "plot.plot(x1, y18)\n",
        "plot.plot(x1, y19)\n",
        "plot.xlabel('Year')\n",
        "plot.ylabel('Oil')"
      ],
      "metadata": {
        "colab": {
          "base_uri": "https://localhost:8080/",
          "height": 296
        },
        "id": "q6Q2glkF7TRq",
        "outputId": "342a3992-2e14-4346-90e2-7f5224f1f36a"
      },
      "execution_count": null,
      "outputs": [
        {
          "output_type": "execute_result",
          "data": {
            "text/plain": [
              "Text(0, 0.5, 'Oil')"
            ]
          },
          "metadata": {},
          "execution_count": 22
        },
        {
          "output_type": "display_data",
          "data": {
            "text/plain": [
              "<Figure size 432x288 with 1 Axes>"
            ],
            "image/png": "[encoded data removed]"
          },
          "metadata": {
            "needs_background": "light"
          }
        }
      ]
    },
    {
      "cell_type": "code",
      "source": [
        "y1=Mex[['Gas']]\n",
        "y2=Ale[['Gas']]\n",
        "y3=Ara[['Gas']]\n",
        "y4=Argen[['Gas']]\n",
        "y5=Austr[['Gas']]\n",
        "y6=Bra[['Gas']]\n",
        "y7=Can[['Gas']]\n",
        "y8=Chi[['Gas']]\n",
        "y9=Corea[['Gas']]\n",
        "y10=Eu[['Gas']]\n",
        "y11=Fran[['Gas']]\n",
        "y12=In[['Gas']]\n",
        "y13=Indon[['Gas']]\n",
        "y14=Ital[['Gas']]\n",
        "y15=Jap[['Gas']]\n",
        "y16=Rei[['Gas']]\n",
        "y17=Rus[['Gas']]\n",
        "y18=Sud[['Gas']]\n",
        "y19=Glob[['Gas']]\n",
        "x2=Fran[['Year']]\n",
        "plot.plot(x1, y1)\n",
        "plot.plot(x1, y2)\n",
        "plot.plot(x1, y3)\n",
        "plot.plot(x1, y4)\n",
        "plot.plot(x1, y5)\n",
        "plot.plot(x1, y6)\n",
        "plot.plot(x1, y7)\n",
        "plot.plot(x1, y8)\n",
        "plot.plot(x1, y9)\n",
        "plot.plot(x1, y10)\n",
        "plot.plot(x2, y11)\n",
        "plot.plot(x1, y12)\n",
        "plot.plot(x1, y13)\n",
        "plot.plot(x2, y14)\n",
        "plot.plot(x2, y15)\n",
        "plot.plot(x1, y16)\n",
        "plot.plot(x2, y17)\n",
        "plot.plot(x1, y18)\n",
        "plot.plot(x1, y19)\n",
        "plot.xlabel('Year')\n",
        "plot.ylabel('Gas')"
      ],
      "metadata": {
        "colab": {
          "base_uri": "https://localhost:8080/",
          "height": 296
        },
        "id": "M7jtrXB175Ak",
        "outputId": "2c55343d-b4a0-4178-cbee-57db8aee5738"
      },
      "execution_count": null,
      "outputs": [
        {
          "output_type": "execute_result",
          "data": {
            "text/plain": [
              "Text(0, 0.5, 'Gas')"
            ]
          },
          "metadata": {},
          "execution_count": 23
        },
        {
          "output_type": "display_data",
          "data": {
            "text/plain": [
              "<Figure size 432x288 with 1 Axes>"
            ],
            "image/png": "[encoded data removed]"
          },
          "metadata": {
            "needs_background": "light"
          }
        }
      ]
    },
    {
      "cell_type": "code",
      "source": [
        "y1=Mex[['Cement']]\n",
        "y2=Ale[['Cement']]\n",
        "y3=Ara[['Cement']]\n",
        "y4=Argen[['Cement']]\n",
        "y5=Austr[['Cement']]\n",
        "y6=Bra[['Cement']]\n",
        "y7=Can[['Cement']]\n",
        "y8=Chi[['Cement']]\n",
        "y9=Corea[['Cement']]\n",
        "y10=Eu[['Cement']]\n",
        "y11=Fran[['Cement']]\n",
        "y12=In[['Cement']]\n",
        "y13=Indon[['Cement']]\n",
        "y14=Ital[['Cement']]\n",
        "y15=Jap[['Cement']]\n",
        "y16=Rei[['Cement']]\n",
        "y17=Rus[['Cement']]\n",
        "y18=Sud[['Cement']]\n",
        "y19=Glob[['Cement']]\n",
        "x2=Fran[['Year']]\n",
        "plot.plot(x1, y1)\n",
        "plot.plot(x1, y2)\n",
        "plot.plot(x1, y3)\n",
        "plot.plot(x1, y4)\n",
        "plot.plot(x1, y5)\n",
        "plot.plot(x1, y6)\n",
        "plot.plot(x1, y7)\n",
        "plot.plot(x1, y8)\n",
        "plot.plot(x1, y9)\n",
        "plot.plot(x1, y10)\n",
        "plot.plot(x2, y11)\n",
        "plot.plot(x1, y12)\n",
        "plot.plot(x1, y13)\n",
        "plot.plot(x2, y14)\n",
        "plot.plot(x2, y15)\n",
        "plot.plot(x1, y16)\n",
        "plot.plot(x2, y17)\n",
        "plot.plot(x1, y18)\n",
        "plot.plot(x1, y19)\n",
        "plot.xlabel('Year')\n",
        "plot.ylabel('Cement')"
      ],
      "metadata": {
        "colab": {
          "base_uri": "https://localhost:8080/",
          "height": 300
        },
        "id": "nBSxcPvk8dWx",
        "outputId": "03e165df-0b7f-4062-bc69-68299639c935"
      },
      "execution_count": null,
      "outputs": [
        {
          "output_type": "execute_result",
          "data": {
            "text/plain": [
              "Text(0, 0.5, 'Cement')"
            ]
          },
          "metadata": {},
          "execution_count": 24
        },
        {
          "output_type": "display_data",
          "data": {
            "text/plain": [
              "<Figure size 432x288 with 1 Axes>"
            ],
            "image/png": "[encoded data removed]"
          },
          "metadata": {
            "needs_background": "light"
          }
        }
      ]
    },
    {
      "cell_type": "code",
      "source": [
        "y1=Mex[['Flaring']]\n",
        "y2=Ale[['Flaring']]\n",
        "y3=Ara[['Flaring']]\n",
        "y4=Argen[['Flaring']]\n",
        "y5=Austr[['Flaring']]\n",
        "y6=Bra[['Flaring']]\n",
        "y7=Can[['Flaring']]\n",
        "y8=Chi[['Flaring']]\n",
        "y9=Corea[['Flaring']]\n",
        "y10=Eu[['Flaring']]\n",
        "y11=Fran[['Flaring']]\n",
        "y12=In[['Flaring']]\n",
        "y13=Indon[['Flaring']]\n",
        "y14=Ital[['Flaring']]\n",
        "y15=Jap[['Flaring']]\n",
        "y16=Rei[['Flaring']]\n",
        "y17=Rus[['Flaring']]\n",
        "y18=Sud[['Flaring']]\n",
        "y19=Glob[['Flaring']]\n",
        "x2=Fran[['Year']]\n",
        "plot.plot(x1, y1)\n",
        "plot.plot(x1, y2)\n",
        "plot.plot(x1, y3)\n",
        "plot.plot(x1, y4)\n",
        "plot.plot(x1, y5)\n",
        "plot.plot(x1, y6)\n",
        "plot.plot(x1, y7)\n",
        "plot.plot(x1, y8)\n",
        "plot.plot(x1, y9)\n",
        "plot.plot(x1, y10)\n",
        "plot.plot(x2, y11)\n",
        "plot.plot(x1, y12)\n",
        "plot.plot(x1, y13)\n",
        "plot.plot(x2, y14)\n",
        "plot.plot(x2, y15)\n",
        "plot.plot(x1, y16)\n",
        "plot.plot(x2, y17)\n",
        "plot.plot(x1, y18)\n",
        "plot.plot(x1, y19)\n",
        "plot.xlabel('Year')\n",
        "plot.ylabel('Flaring')"
      ],
      "metadata": {
        "colab": {
          "base_uri": "https://localhost:8080/",
          "height": 296
        },
        "id": "6JoQ6ciZ91jp",
        "outputId": "072537e0-dd91-4e13-b60d-9e73b8344983"
      },
      "execution_count": null,
      "outputs": [
        {
          "output_type": "execute_result",
          "data": {
            "text/plain": [
              "Text(0, 0.5, 'Flaring')"
            ]
          },
          "metadata": {},
          "execution_count": 25
        },
        {
          "output_type": "display_data",
          "data": {
            "text/plain": [
              "<Figure size 432x288 with 1 Axes>"
            ],
            "image/png": "[encoded data removed]"
          },
          "metadata": {
            "needs_background": "light"
          }
        }
      ]
    },
    {
      "cell_type": "code",
      "source": [
        "y1=Mex[['Per Capita']]\n",
        "y2=Ale[['Per Capita']]\n",
        "y3=Ara[['Per Capita']]\n",
        "y4=Argen[['Per Capita']]\n",
        "y5=Austr[['Per Capita']]\n",
        "y6=Bra[['Per Capita']]\n",
        "y7=Can[['Per Capita']]\n",
        "y8=Chi[['Per Capita']]\n",
        "y9=Corea[['Per Capita']]\n",
        "y10=Eu[['Per Capita']]\n",
        "y11=Fran[['Per Capita']]\n",
        "y12=In[['Per Capita']]\n",
        "y13=Indon[['Per Capita']]\n",
        "y14=Ital[['Per Capita']]\n",
        "y15=Jap[['Per Capita']]\n",
        "y16=Rei[['Per Capita']]\n",
        "y17=Rus[['Per Capita']]\n",
        "y18=Sud[['Per Capita']]\n",
        "y19=Glob[['Per Capita']]\n",
        "x2=Fran[['Year']]\n",
        "plot.plot(x1, y1)\n",
        "plot.plot(x1, y2)\n",
        "plot.plot(x1, y3)\n",
        "plot.plot(x1, y4)\n",
        "plot.plot(x1, y5)\n",
        "plot.plot(x1, y6)\n",
        "plot.plot(x1, y7)\n",
        "plot.plot(x1, y8)\n",
        "plot.plot(x1, y9)\n",
        "plot.plot(x1, y10)\n",
        "plot.plot(x2, y11)\n",
        "plot.plot(x1, y12)\n",
        "plot.plot(x1, y13)\n",
        "plot.plot(x2, y14)\n",
        "plot.plot(x2, y15)\n",
        "plot.plot(x1, y16)\n",
        "plot.plot(x2, y17)\n",
        "plot.plot(x1, y18)\n",
        "plot.plot(x1, y19)\n",
        "plot.xlabel('Year')\n",
        "plot.ylabel('Per Capita')"
      ],
      "metadata": {
        "colab": {
          "base_uri": "https://localhost:8080/",
          "height": 296
        },
        "id": "ZIPtaHfw-pH0",
        "outputId": "3c83eb7d-465d-4cb6-edf8-dea6d315c288"
      },
      "execution_count": null,
      "outputs": [
        {
          "output_type": "execute_result",
          "data": {
            "text/plain": [
              "Text(0, 0.5, 'Per Capita')"
            ]
          },
          "metadata": {},
          "execution_count": 26
        },
        {
          "output_type": "display_data",
          "data": {
            "text/plain": [
              "<Figure size 432x288 with 1 Axes>"
            ],
            "image/png": "[encoded data removed]"
          },
          "metadata": {
            "needs_background": "light"
          }
        }
      ]
    },
    {
      "cell_type": "code",
      "source": [
        "#Obtener los maximos en contaminacion de cada caso\n",
        "\n",
        "TotMax=G20.groupby(['Country'])['Total'].max()\n",
        "Totdes=TotMax.sort_values(ascending=False)\n",
        "print ('Los paises con mas contaminacion Total son')\n",
        "Totdes.head(3)\n"
      ],
      "metadata": {
        "colab": {
          "base_uri": "https://localhost:8080/"
        },
        "id": "Ut3R2mqLGdy8",
        "outputId": "82862108-23ee-4008-9211-f654bb5a6919"
      },
      "execution_count": null,
      "outputs": [
        {
          "output_type": "stream",
          "name": "stdout",
          "text": [
            "Los paises con mas contaminacion Total son\n"
          ]
        },
        {
          "output_type": "execute_result",
          "data": {
            "text/plain": [
              "Country\n",
              "China    11472.369171\n",
              "USA       6137.603445\n",
              "India     2709.683625\n",
              "Name: Total, dtype: float64"
            ]
          },
          "metadata": {},
          "execution_count": 27
        }
      ]
    },
    {
      "cell_type": "code",
      "source": [
        "CoalMax=G20.groupby(['Country'])['Coal'].max()\n",
        "Coaldes=CoalMax.sort_values(ascending=False)\n",
        "print ('Los paises con mas contaminacion de Carbon son')\n",
        "Coaldes.head(3)"
      ],
      "metadata": {
        "colab": {
          "base_uri": "https://localhost:8080/"
        },
        "id": "Q6lcgZs3SzMb",
        "outputId": "85cdeef7-e143-4892-bee3-cff28c52b301"
      },
      "execution_count": null,
      "outputs": [
        {
          "output_type": "stream",
          "name": "stdout",
          "text": [
            "Los paises con mas contaminacion de Carbon son\n"
          ]
        },
        {
          "output_type": "execute_result",
          "data": {
            "text/plain": [
              "Country\n",
              "China    7955.985419\n",
              "USA      2189.646259\n",
              "India    1802.311897\n",
              "Name: Coal, dtype: float64"
            ]
          },
          "metadata": {},
          "execution_count": 28
        }
      ]
    },
    {
      "cell_type": "code",
      "source": [
        "OilMax=G20.groupby(['Country'])['Oil'].max()\n",
        "Oildes=OilMax.sort_values(ascending=False)\n",
        "print ('Los paises con mas contaminacion de Aceite son')\n",
        "Oildes.head(3)"
      ],
      "metadata": {
        "colab": {
          "base_uri": "https://localhost:8080/"
        },
        "id": "rTBRdUfUTktq",
        "outputId": "eb50a13a-51ad-4fbc-c05a-1e058d625cba"
      },
      "execution_count": null,
      "outputs": [
        {
          "output_type": "stream",
          "name": "stdout",
          "text": [
            "Los paises con mas contaminacion de Aceite son\n"
          ]
        },
        {
          "output_type": "execute_result",
          "data": {
            "text/plain": [
              "Country\n",
              "USA      2644.236598\n",
              "China    1713.339980\n",
              "India     674.011463\n",
              "Name: Oil, dtype: float64"
            ]
          },
          "metadata": {},
          "execution_count": 29
        }
      ]
    },
    {
      "cell_type": "code",
      "source": [
        "GasMax=G20.groupby(['Country'])['Gas'].max()\n",
        "Gasdes=GasMax.sort_values(ascending=False)\n",
        "print ('Los paises con mas contaminacion de Gas son')\n",
        "Gasdes.head(3)"
      ],
      "metadata": {
        "colab": {
          "base_uri": "https://localhost:8080/"
        },
        "id": "A0Xd-ZZrT4Xf",
        "outputId": "9b0ba9b9-3664-454a-e0d7-d5d59ac5d5f2"
      },
      "execution_count": null,
      "outputs": [
        {
          "output_type": "stream",
          "name": "stdout",
          "text": [
            "Los paises con mas contaminacion de Gas son\n"
          ]
        },
        {
          "output_type": "execute_result",
          "data": {
            "text/plain": [
              "Country\n",
              "USA             1673.999100\n",
              "China            773.866062\n",
              "Saudi Arabia     270.065088\n",
              "Name: Gas, dtype: float64"
            ]
          },
          "metadata": {},
          "execution_count": 30
        }
      ]
    },
    {
      "cell_type": "code",
      "source": [
        "CementMax=G20.groupby(['Country'])['Cement'].max()\n",
        "Cementdes=CoalMax.sort_values(ascending=False)\n",
        "print ('Los paises con mas contaminacion de Cemento son')\n",
        "Cementdes.head(3)"
      ],
      "metadata": {
        "colab": {
          "base_uri": "https://localhost:8080/"
        },
        "id": "KI5G3ALvUKn3",
        "outputId": "d501e1a1-63e4-46b4-cba2-799f94affe77"
      },
      "execution_count": null,
      "outputs": [
        {
          "output_type": "stream",
          "name": "stdout",
          "text": [
            "Los paises con mas contaminacion de Cemento son\n"
          ]
        },
        {
          "output_type": "execute_result",
          "data": {
            "text/plain": [
              "Country\n",
              "China    7955.985419\n",
              "USA      2189.646259\n",
              "India    1802.311897\n",
              "Name: Coal, dtype: float64"
            ]
          },
          "metadata": {},
          "execution_count": 31
        }
      ]
    },
    {
      "cell_type": "code",
      "source": [
        "FMax=G20.groupby(['Country'])['Flaring'].max()\n",
        "Fdes=FMax.sort_values(ascending=False)\n",
        "print ('Los paises con mas contaminacion de Flaring son')\n",
        "Fdes.head(3)"
      ],
      "metadata": {
        "colab": {
          "base_uri": "https://localhost:8080/"
        },
        "id": "GPHSFw4HUWd1",
        "outputId": "83c8810e-20bd-4c06-e1fc-0b5811272117"
      },
      "execution_count": null,
      "outputs": [
        {
          "output_type": "stream",
          "name": "stdout",
          "text": [
            "Los paises con mas contaminacion de Flaring son\n"
          ]
        },
        {
          "output_type": "execute_result",
          "data": {
            "text/plain": [
              "Country\n",
              "USA             88.383147\n",
              "Saudi Arabia    75.185280\n",
              "Mexico          26.593312\n",
              "Name: Flaring, dtype: float64"
            ]
          },
          "metadata": {},
          "execution_count": 32
        }
      ]
    },
    {
      "cell_type": "code",
      "source": [
        "PMax=G20.groupby(['Country'])['Per Capita'].max()\n",
        "Pdes=PMax.sort_values(ascending=False)\n",
        "print ('Los paises con mas contaminacion de Per Capita son')\n",
        "Pdes.head(3)"
      ],
      "metadata": {
        "colab": {
          "base_uri": "https://localhost:8080/"
        },
        "id": "iy9qMOHnUpcF",
        "outputId": "9820c53d-06cb-4eb1-a468-8e3b3d7eb9a7"
      },
      "execution_count": null,
      "outputs": [
        {
          "output_type": "stream",
          "name": "stdout",
          "text": [
            "Los paises con mas contaminacion de Per Capita son\n"
          ]
        },
        {
          "output_type": "execute_result",
          "data": {
            "text/plain": [
              "Country\n",
              "USA             23.081082\n",
              "Saudi Arabia    20.728320\n",
              "Australia       19.213040\n",
              "Name: Per Capita, dtype: float64"
            ]
          },
          "metadata": {},
          "execution_count": 33
        }
      ]
    },
    {
      "cell_type": "code",
      "source": [
        "SumMex=Mex['Total'].sum()\n",
        "SumG20=G20['Total'].sum()\n",
        "P=SumMex*100/SumG20\n",
        "print (\"El promedio de emision total de México comparada con la de G20 es\", P)"
      ],
      "metadata": {
        "colab": {
          "base_uri": "https://localhost:8080/"
        },
        "id": "wh7beSXzU87m",
        "outputId": "2670b8d4-d05b-4a19-e487-34f2810f035e"
      },
      "execution_count": null,
      "outputs": [
        {
          "output_type": "stream",
          "name": "stdout",
          "text": [
            "El promedio de emision total de México comparada con la de G20 es 1.9219507400082323\n"
          ]
        }
      ]
    },
    {
      "cell_type": "code",
      "source": [
        "SumMex=Mex['Per Capita'].sum()\n",
        "SumG20=G20['Per Capita'].sum()\n",
        "P=SumMex*100/SumG20\n",
        "print (\"El promedio de emision Per Capita de México comparada con la de G20 es\", P)"
      ],
      "metadata": {
        "colab": {
          "base_uri": "https://localhost:8080/"
        },
        "id": "0WR4tXB_WcTX",
        "outputId": "0c60f653-6c7d-4fec-d3f2-836fcaee2873"
      },
      "execution_count": null,
      "outputs": [
        {
          "output_type": "stream",
          "name": "stdout",
          "text": [
            "El promedio de emision Per Capita de México comparada con la de G20 es 2.2304011470470675\n"
          ]
        }
      ]
    },
    {
      "cell_type": "code",
      "source": [
        "#Utilizar Merge\n",
        "\n",
        "Mx=Mex.reset_index()\n",
        "Mx1=Mx.rename(columns={'index':'Num Dat'})\n",
        "DataMex=Mx1[100:200]\n",
        "ListaMex=DataMex.drop(['Num Dat','ISO 3166-1 alpha-3','Coal','Oil','Gas','Cement','Flaring','Other'], axis=1)\n",
        "ListaMex.head()\n"
      ],
      "metadata": {
        "id": "qL4pg13-Oxxv",
        "colab": {
          "base_uri": "https://localhost:8080/",
          "height": 206
        },
        "outputId": "986a50cb-76c8-44d4-8fdc-00085ea2fce0"
      },
      "execution_count": 75,
      "outputs": [
        {
          "output_type": "execute_result",
          "data": {
            "text/plain": [
              "    Country  Year  Total  Per Capita\n",
              "100  Mexico  1850    0.0         0.0\n",
              "101  Mexico  1851    0.0         0.0\n",
              "102  Mexico  1852    0.0         0.0\n",
              "103  Mexico  1853    0.0         0.0\n",
              "104  Mexico  1854    0.0         0.0"
            ],
            "text/html": [
              "\n",
              "  <div id=\"df-3be63182-8187-493b-91f4-298e822c53cf\">\n",
              "    <div class=\"colab-df-container\">\n",
              "      <div>\n",
              "<style scoped>\n",
              "    .dataframe tbody tr th:only-of-type {\n",
              "        vertical-align: middle;\n",
              "    }\n",
              "\n",
              "    .dataframe tbody tr th {\n",
              "        vertical-align: top;\n",
              "    }\n",
              "\n",
              "    .dataframe thead th {\n",
              "        text-align: right;\n",
              "    }\n",
              "</style>\n",
              "<table border=\"1\" class=\"dataframe\">\n",
              "  <thead>\n",
              "    <tr style=\"text-align: right;\">\n",
              "      <th></th>\n",
              "      <th>Country</th>\n",
              "      <th>Year</th>\n",
              "      <th>Total</th>\n",
              "      <th>Per Capita</th>\n",
              "    </tr>\n",
              "  </thead>\n",
              "  <tbody>\n",
              "    <tr>\n",
              "      <th>100</th>\n",
              "      <td>Mexico</td>\n",
              "      <td>1850</td>\n",
              "      <td>0.0</td>\n",
              "      <td>0.0</td>\n",
              "    </tr>\n",
              "    <tr>\n",
              "      <th>101</th>\n",
              "      <td>Mexico</td>\n",
              "      <td>1851</td>\n",
              "      <td>0.0</td>\n",
              "      <td>0.0</td>\n",
              "    </tr>\n",
              "    <tr>\n",
              "      <th>102</th>\n",
              "      <td>Mexico</td>\n",
              "      <td>1852</td>\n",
              "      <td>0.0</td>\n",
              "      <td>0.0</td>\n",
              "    </tr>\n",
              "    <tr>\n",
              "      <th>103</th>\n",
              "      <td>Mexico</td>\n",
              "      <td>1853</td>\n",
              "      <td>0.0</td>\n",
              "      <td>0.0</td>\n",
              "    </tr>\n",
              "    <tr>\n",
              "      <th>104</th>\n",
              "      <td>Mexico</td>\n",
              "      <td>1854</td>\n",
              "      <td>0.0</td>\n",
              "      <td>0.0</td>\n",
              "    </tr>\n",
              "  </tbody>\n",
              "</table>\n",
              "</div>\n",
              "      <button class=\"colab-df-convert\" onclick=\"convertToInteractive('df-3be63182-8187-493b-91f4-298e822c53cf')\"\n",
              "              title=\"Convert this dataframe to an interactive table.\"\n",
              "              style=\"display:none;\">\n",
              "        \n",
              "  <svg xmlns=\"http://www.w3.org/2000/svg\" height=\"24px\"viewBox=\"0 0 24 24\"\n",
              "       width=\"24px\">\n",
              "    <path d=\"M0 0h24v24H0V0z\" fill=\"none\"/>\n",
              "    <path d=\"M18.56 5.44l.94 2.06.94-2.06 2.06-.94-2.06-.94-.94-2.06-.94 2.06-2.06.94zm-11 1L8.5 8.5l.94-2.06 2.06-.94-2.06-.94L8.5 2.5l-.94 2.06-2.06.94zm10 10l.94 2.06.94-2.06 2.06-.94-2.06-.94-.94-2.06-.94 2.06-2.06.94z\"/><path d=\"M17.41 7.96l-1.37-1.37c-.4-.4-.92-.59-1.43-.59-.52 0-1.04.2-1.43.59L10.3 9.45l-7.72 7.72c-.78.78-.78 2.05 0 2.83L4 21.41c.39.39.9.59 1.41.59.51 0 1.02-.2 1.41-.59l7.78-7.78 2.81-2.81c.8-.78.8-2.07 0-2.86zM5.41 20L4 18.59l7.72-7.72 1.47 1.35L5.41 20z\"/>\n",
              "  </svg>\n",
              "      </button>\n",
              "      \n",
              "  <style>\n",
              "    .colab-df-container {\n",
              "      display:flex;\n",
              "      flex-wrap:wrap;\n",
              "      gap: 12px;\n",
              "    }\n",
              "\n",
              "    .colab-df-convert {\n",
              "      background-color: #E8F0FE;\n",
              "      border: none;\n",
              "      border-radius: 50%;\n",
              "      cursor: pointer;\n",
              "      display: none;\n",
              "      fill: #1967D2;\n",
              "      height: 32px;\n",
              "      padding: 0 0 0 0;\n",
              "      width: 32px;\n",
              "    }\n",
              "\n",
              "    .colab-df-convert:hover {\n",
              "      background-color: #E2EBFA;\n",
              "      box-shadow: 0px 1px 2px rgba(60, 64, 67, 0.3), 0px 1px 3px 1px rgba(60, 64, 67, 0.15);\n",
              "      fill: #174EA6;\n",
              "    }\n",
              "\n",
              "    [theme=dark] .colab-df-convert {\n",
              "      background-color: #3B4455;\n",
              "      fill: #D2E3FC;\n",
              "    }\n",
              "\n",
              "    [theme=dark] .colab-df-convert:hover {\n",
              "      background-color: #434B5C;\n",
              "      box-shadow: 0px 1px 3px 1px rgba(0, 0, 0, 0.15);\n",
              "      filter: drop-shadow(0px 1px 2px rgba(0, 0, 0, 0.3));\n",
              "      fill: #FFFFFF;\n",
              "    }\n",
              "  </style>\n",
              "\n",
              "      <script>\n",
              "        const buttonEl =\n",
              "          document.querySelector('#df-3be63182-8187-493b-91f4-298e822c53cf button.colab-df-convert');\n",
              "        buttonEl.style.display =\n",
              "          google.colab.kernel.accessAllowed ? 'block' : 'none';\n",
              "\n",
              "        async function convertToInteractive(key) {\n",
              "          const element = document.querySelector('#df-3be63182-8187-493b-91f4-298e822c53cf');\n",
              "          const dataTable =\n",
              "            await google.colab.kernel.invokeFunction('convertToInteractive',\n",
              "                                                     [key], {});\n",
              "          if (!dataTable) return;\n",
              "\n",
              "          const docLinkHtml = 'Like what you see? Visit the ' +\n",
              "            '<a target=\"_blank\" href=https://colab.research.google.com/notebooks/data_table.ipynb>data table notebook</a>'\n",
              "            + ' to learn more about interactive tables.';\n",
              "          element.innerHTML = '';\n",
              "          dataTable['output_type'] = 'display_data';\n",
              "          await google.colab.output.renderOutput(dataTable, element);\n",
              "          const docLink = document.createElement('div');\n",
              "          docLink.innerHTML = docLinkHtml;\n",
              "          element.appendChild(docLink);\n",
              "        }\n",
              "      </script>\n",
              "    </div>\n",
              "  </div>\n",
              "  "
            ]
          },
          "metadata": {},
          "execution_count": 75
        }
      ]
    },
    {
      "cell_type": "code",
      "source": [
        "Br=Bra.reset_index()\n",
        "Br1=Br.rename(columns={'index':'Num Dat'})\n",
        "DataBra=Br1[168:250]\n",
        "ListaBra=DataBra.drop(['Num Dat','ISO 3166-1 alpha-3','Coal','Oil','Gas','Cement','Flaring','Other'], axis=1)\n",
        "ListaBra.head()"
      ],
      "metadata": {
        "colab": {
          "base_uri": "https://localhost:8080/",
          "height": 206
        },
        "id": "Y7GUNGc0Zexa",
        "outputId": "29041094-40bd-4a41-f1ea-320431576c23"
      },
      "execution_count": 76,
      "outputs": [
        {
          "output_type": "execute_result",
          "data": {
            "text/plain": [
              "    Country  Year     Total  Per Capita\n",
              "168  Brazil  1918  2.322976         0.0\n",
              "169  Brazil  1919  3.070432         0.0\n",
              "170  Brazil  1920  3.645680         0.0\n",
              "171  Brazil  1921  2.890896         0.0\n",
              "172  Brazil  1922  3.781248         0.0"
            ],
            "text/html": [
              "\n",
              "  <div id=\"df-5bb91a11-7d11-4c09-9ea4-f3da20f546e7\">\n",
              "    <div class=\"colab-df-container\">\n",
              "      <div>\n",
              "<style scoped>\n",
              "    .dataframe tbody tr th:only-of-type {\n",
              "        vertical-align: middle;\n",
              "    }\n",
              "\n",
              "    .dataframe tbody tr th {\n",
              "        vertical-align: top;\n",
              "    }\n",
              "\n",
              "    .dataframe thead th {\n",
              "        text-align: right;\n",
              "    }\n",
              "</style>\n",
              "<table border=\"1\" class=\"dataframe\">\n",
              "  <thead>\n",
              "    <tr style=\"text-align: right;\">\n",
              "      <th></th>\n",
              "      <th>Country</th>\n",
              "      <th>Year</th>\n",
              "      <th>Total</th>\n",
              "      <th>Per Capita</th>\n",
              "    </tr>\n",
              "  </thead>\n",
              "  <tbody>\n",
              "    <tr>\n",
              "      <th>168</th>\n",
              "      <td>Brazil</td>\n",
              "      <td>1918</td>\n",
              "      <td>2.322976</td>\n",
              "      <td>0.0</td>\n",
              "    </tr>\n",
              "    <tr>\n",
              "      <th>169</th>\n",
              "      <td>Brazil</td>\n",
              "      <td>1919</td>\n",
              "      <td>3.070432</td>\n",
              "      <td>0.0</td>\n",
              "    </tr>\n",
              "    <tr>\n",
              "      <th>170</th>\n",
              "      <td>Brazil</td>\n",
              "      <td>1920</td>\n",
              "      <td>3.645680</td>\n",
              "      <td>0.0</td>\n",
              "    </tr>\n",
              "    <tr>\n",
              "      <th>171</th>\n",
              "      <td>Brazil</td>\n",
              "      <td>1921</td>\n",
              "      <td>2.890896</td>\n",
              "      <td>0.0</td>\n",
              "    </tr>\n",
              "    <tr>\n",
              "      <th>172</th>\n",
              "      <td>Brazil</td>\n",
              "      <td>1922</td>\n",
              "      <td>3.781248</td>\n",
              "      <td>0.0</td>\n",
              "    </tr>\n",
              "  </tbody>\n",
              "</table>\n",
              "</div>\n",
              "      <button class=\"colab-df-convert\" onclick=\"convertToInteractive('df-5bb91a11-7d11-4c09-9ea4-f3da20f546e7')\"\n",
              "              title=\"Convert this dataframe to an interactive table.\"\n",
              "              style=\"display:none;\">\n",
              "        \n",
              "  <svg xmlns=\"http://www.w3.org/2000/svg\" height=\"24px\"viewBox=\"0 0 24 24\"\n",
              "       width=\"24px\">\n",
              "    <path d=\"M0 0h24v24H0V0z\" fill=\"none\"/>\n",
              "    <path d=\"M18.56 5.44l.94 2.06.94-2.06 2.06-.94-2.06-.94-.94-2.06-.94 2.06-2.06.94zm-11 1L8.5 8.5l.94-2.06 2.06-.94-2.06-.94L8.5 2.5l-.94 2.06-2.06.94zm10 10l.94 2.06.94-2.06 2.06-.94-2.06-.94-.94-2.06-.94 2.06-2.06.94z\"/><path d=\"M17.41 7.96l-1.37-1.37c-.4-.4-.92-.59-1.43-.59-.52 0-1.04.2-1.43.59L10.3 9.45l-7.72 7.72c-.78.78-.78 2.05 0 2.83L4 21.41c.39.39.9.59 1.41.59.51 0 1.02-.2 1.41-.59l7.78-7.78 2.81-2.81c.8-.78.8-2.07 0-2.86zM5.41 20L4 18.59l7.72-7.72 1.47 1.35L5.41 20z\"/>\n",
              "  </svg>\n",
              "      </button>\n",
              "      \n",
              "  <style>\n",
              "    .colab-df-container {\n",
              "      display:flex;\n",
              "      flex-wrap:wrap;\n",
              "      gap: 12px;\n",
              "    }\n",
              "\n",
              "    .colab-df-convert {\n",
              "      background-color: #E8F0FE;\n",
              "      border: none;\n",
              "      border-radius: 50%;\n",
              "      cursor: pointer;\n",
              "      display: none;\n",
              "      fill: #1967D2;\n",
              "      height: 32px;\n",
              "      padding: 0 0 0 0;\n",
              "      width: 32px;\n",
              "    }\n",
              "\n",
              "    .colab-df-convert:hover {\n",
              "      background-color: #E2EBFA;\n",
              "      box-shadow: 0px 1px 2px rgba(60, 64, 67, 0.3), 0px 1px 3px 1px rgba(60, 64, 67, 0.15);\n",
              "      fill: #174EA6;\n",
              "    }\n",
              "\n",
              "    [theme=dark] .colab-df-convert {\n",
              "      background-color: #3B4455;\n",
              "      fill: #D2E3FC;\n",
              "    }\n",
              "\n",
              "    [theme=dark] .colab-df-convert:hover {\n",
              "      background-color: #434B5C;\n",
              "      box-shadow: 0px 1px 3px 1px rgba(0, 0, 0, 0.15);\n",
              "      filter: drop-shadow(0px 1px 2px rgba(0, 0, 0, 0.3));\n",
              "      fill: #FFFFFF;\n",
              "    }\n",
              "  </style>\n",
              "\n",
              "      <script>\n",
              "        const buttonEl =\n",
              "          document.querySelector('#df-5bb91a11-7d11-4c09-9ea4-f3da20f546e7 button.colab-df-convert');\n",
              "        buttonEl.style.display =\n",
              "          google.colab.kernel.accessAllowed ? 'block' : 'none';\n",
              "\n",
              "        async function convertToInteractive(key) {\n",
              "          const element = document.querySelector('#df-5bb91a11-7d11-4c09-9ea4-f3da20f546e7');\n",
              "          const dataTable =\n",
              "            await google.colab.kernel.invokeFunction('convertToInteractive',\n",
              "                                                     [key], {});\n",
              "          if (!dataTable) return;\n",
              "\n",
              "          const docLinkHtml = 'Like what you see? Visit the ' +\n",
              "            '<a target=\"_blank\" href=https://colab.research.google.com/notebooks/data_table.ipynb>data table notebook</a>'\n",
              "            + ' to learn more about interactive tables.';\n",
              "          element.innerHTML = '';\n",
              "          dataTable['output_type'] = 'display_data';\n",
              "          await google.colab.output.renderOutput(dataTable, element);\n",
              "          const docLink = document.createElement('div');\n",
              "          docLink.innerHTML = docLinkHtml;\n",
              "          element.appendChild(docLink);\n",
              "        }\n",
              "      </script>\n",
              "    </div>\n",
              "  </div>\n",
              "  "
            ]
          },
          "metadata": {},
          "execution_count": 76
        }
      ]
    },
    {
      "cell_type": "code",
      "source": [
        "pd.merge(ListaMex, ListaBra, left_index=True, right_index=True).sort_index()"
      ],
      "metadata": {
        "colab": {
          "base_uri": "https://localhost:8080/",
          "height": 1000
        },
        "id": "q9cONBhjaH7C",
        "outputId": "501ee7fc-9999-423e-998c-a51f8d906eca"
      },
      "execution_count": 78,
      "outputs": [
        {
          "output_type": "execute_result",
          "data": {
            "text/plain": [
              "    Country_x  Year_x    Total_x  Per Capita_x Country_y  Year_y   Total_y  \\\n",
              "168    Mexico    1918  30.642032           0.0    Brazil    1918  2.322976   \n",
              "169    Mexico    1919  41.084432           0.0    Brazil    1919  3.070432   \n",
              "170    Mexico    1920  76.236848           0.0    Brazil    1920  3.645680   \n",
              "171    Mexico    1921  90.288288           0.0    Brazil    1921  2.890896   \n",
              "172    Mexico    1922  85.550736           0.0    Brazil    1922  3.781248   \n",
              "173    Mexico    1923  72.037904           0.0    Brazil    1923  4.616640   \n",
              "174    Mexico    1924  67.871936           0.0    Brazil    1924  5.103952   \n",
              "175    Mexico    1925  57.085120           0.0    Brazil    1925  5.375088   \n",
              "176    Mexico    1926  44.686144           0.0    Brazil    1926  5.477680   \n",
              "177    Mexico    1927  31.796192           0.0    Brazil    1927  6.074912   \n",
              "178    Mexico    1928  24.082610           0.0    Brazil    1928  5.927995   \n",
              "179    Mexico    1929  22.147959           0.0    Brazil    1929  6.345662   \n",
              "180    Mexico    1930  20.379168           0.0    Brazil    1930  5.513964   \n",
              "181    Mexico    1931  16.751808           0.0    Brazil    1931  4.168949   \n",
              "182    Mexico    1932  16.194880           0.0    Brazil    1932  4.169038   \n",
              "183    Mexico    1933  16.740816           0.0    Brazil    1933  4.722005   \n",
              "184    Mexico    1934  18.891584           0.0    Brazil    1934  4.622661   \n",
              "185    Mexico    1935  21.426062           0.0    Brazil    1935  5.509171   \n",
              "186    Mexico    1936  21.960857           0.0    Brazil    1936  5.145960   \n",
              "187    Mexico    1937  24.902811           0.0    Brazil    1937  6.087250   \n",
              "188    Mexico    1938  24.265156           0.0    Brazil    1938  6.094398   \n",
              "189    Mexico    1939  22.663840           0.0    Brazil    1939  5.947511   \n",
              "190    Mexico    1940  23.209479           0.0    Brazil    1940  6.485943   \n",
              "191    Mexico    1941  22.546087           0.0    Brazil    1941  6.280670   \n",
              "192    Mexico    1942  18.977143           0.0    Brazil    1942  5.866699   \n",
              "193    Mexico    1943  19.057781           0.0    Brazil    1943  6.474923   \n",
              "194    Mexico    1944  20.123886           0.0    Brazil    1944  5.895771   \n",
              "195    Mexico    1945  22.614871           0.0    Brazil    1945  6.822912   \n",
              "196    Mexico    1946  25.623044           0.0    Brazil    1946  7.460241   \n",
              "197    Mexico    1947  29.351927           0.0    Brazil    1947  8.947467   \n",
              "198    Mexico    1948  30.509423           0.0    Brazil    1948  7.847465   \n",
              "199    Mexico    1949  28.958958           0.0    Brazil    1949  7.366800   \n",
              "\n",
              "     Per Capita_y  \n",
              "168           0.0  \n",
              "169           0.0  \n",
              "170           0.0  \n",
              "171           0.0  \n",
              "172           0.0  \n",
              "173           0.0  \n",
              "174           0.0  \n",
              "175           0.0  \n",
              "176           0.0  \n",
              "177           0.0  \n",
              "178           0.0  \n",
              "179           0.0  \n",
              "180           0.0  \n",
              "181           0.0  \n",
              "182           0.0  \n",
              "183           0.0  \n",
              "184           0.0  \n",
              "185           0.0  \n",
              "186           0.0  \n",
              "187           0.0  \n",
              "188           0.0  \n",
              "189           0.0  \n",
              "190           0.0  \n",
              "191           0.0  \n",
              "192           0.0  \n",
              "193           0.0  \n",
              "194           0.0  \n",
              "195           0.0  \n",
              "196           0.0  \n",
              "197           0.0  \n",
              "198           0.0  \n",
              "199           0.0  "
            ],
            "text/html": [
              "\n",
              "  <div id=\"df-26c7e7f0-f5f5-4922-b998-c7638545bc82\">\n",
              "    <div class=\"colab-df-container\">\n",
              "      <div>\n",
              "<style scoped>\n",
              "    .dataframe tbody tr th:only-of-type {\n",
              "        vertical-align: middle;\n",
              "    }\n",
              "\n",
              "    .dataframe tbody tr th {\n",
              "        vertical-align: top;\n",
              "    }\n",
              "\n",
              "    .dataframe thead th {\n",
              "        text-align: right;\n",
              "    }\n",
              "</style>\n",
              "<table border=\"1\" class=\"dataframe\">\n",
              "  <thead>\n",
              "    <tr style=\"text-align: right;\">\n",
              "      <th></th>\n",
              "      <th>Country_x</th>\n",
              "      <th>Year_x</th>\n",
              "      <th>Total_x</th>\n",
              "      <th>Per Capita_x</th>\n",
              "      <th>Country_y</th>\n",
              "      <th>Year_y</th>\n",
              "      <th>Total_y</th>\n",
              "      <th>Per Capita_y</th>\n",
              "    </tr>\n",
              "  </thead>\n",
              "  <tbody>\n",
              "    <tr>\n",
              "      <th>168</th>\n",
              "      <td>Mexico</td>\n",
              "      <td>1918</td>\n",
              "      <td>30.642032</td>\n",
              "      <td>0.0</td>\n",
              "      <td>Brazil</td>\n",
              "      <td>1918</td>\n",
              "      <td>2.322976</td>\n",
              "      <td>0.0</td>\n",
              "    </tr>\n",
              "    <tr>\n",
              "      <th>169</th>\n",
              "      <td>Mexico</td>\n",
              "      <td>1919</td>\n",
              "      <td>41.084432</td>\n",
              "      <td>0.0</td>\n",
              "      <td>Brazil</td>\n",
              "      <td>1919</td>\n",
              "      <td>3.070432</td>\n",
              "      <td>0.0</td>\n",
              "    </tr>\n",
              "    <tr>\n",
              "      <th>170</th>\n",
              "      <td>Mexico</td>\n",
              "      <td>1920</td>\n",
              "      <td>76.236848</td>\n",
              "      <td>0.0</td>\n",
              "      <td>Brazil</td>\n",
              "      <td>1920</td>\n",
              "      <td>3.645680</td>\n",
              "      <td>0.0</td>\n",
              "    </tr>\n",
              "    <tr>\n",
              "      <th>171</th>\n",
              "      <td>Mexico</td>\n",
              "      <td>1921</td>\n",
              "      <td>90.288288</td>\n",
              "      <td>0.0</td>\n",
              "      <td>Brazil</td>\n",
              "      <td>1921</td>\n",
              "      <td>2.890896</td>\n",
              "      <td>0.0</td>\n",
              "    </tr>\n",
              "    <tr>\n",
              "      <th>172</th>\n",
              "      <td>Mexico</td>\n",
              "      <td>1922</td>\n",
              "      <td>85.550736</td>\n",
              "      <td>0.0</td>\n",
              "      <td>Brazil</td>\n",
              "      <td>1922</td>\n",
              "      <td>3.781248</td>\n",
              "      <td>0.0</td>\n",
              "    </tr>\n",
              "    <tr>\n",
              "      <th>173</th>\n",
              "      <td>Mexico</td>\n",
              "      <td>1923</td>\n",
              "      <td>72.037904</td>\n",
              "      <td>0.0</td>\n",
              "      <td>Brazil</td>\n",
              "      <td>1923</td>\n",
              "      <td>4.616640</td>\n",
              "      <td>0.0</td>\n",
              "    </tr>\n",
              "    <tr>\n",
              "      <th>174</th>\n",
              "      <td>Mexico</td>\n",
              "      <td>1924</td>\n",
              "      <td>67.871936</td>\n",
              "      <td>0.0</td>\n",
              "      <td>Brazil</td>\n",
              "      <td>1924</td>\n",
              "      <td>5.103952</td>\n",
              "      <td>0.0</td>\n",
              "    </tr>\n",
              "    <tr>\n",
              "      <th>175</th>\n",
              "      <td>Mexico</td>\n",
              "      <td>1925</td>\n",
              "      <td>57.085120</td>\n",
              "      <td>0.0</td>\n",
              "      <td>Brazil</td>\n",
              "      <td>1925</td>\n",
              "      <td>5.375088</td>\n",
              "      <td>0.0</td>\n",
              "    </tr>\n",
              "    <tr>\n",
              "      <th>176</th>\n",
              "      <td>Mexico</td>\n",
              "      <td>1926</td>\n",
              "      <td>44.686144</td>\n",
              "      <td>0.0</td>\n",
              "      <td>Brazil</td>\n",
              "      <td>1926</td>\n",
              "      <td>5.477680</td>\n",
              "      <td>0.0</td>\n",
              "    </tr>\n",
              "    <tr>\n",
              "      <th>177</th>\n",
              "      <td>Mexico</td>\n",
              "      <td>1927</td>\n",
              "      <td>31.796192</td>\n",
              "      <td>0.0</td>\n",
              "      <td>Brazil</td>\n",
              "      <td>1927</td>\n",
              "      <td>6.074912</td>\n",
              "      <td>0.0</td>\n",
              "    </tr>\n",
              "    <tr>\n",
              "      <th>178</th>\n",
              "      <td>Mexico</td>\n",
              "      <td>1928</td>\n",
              "      <td>24.082610</td>\n",
              "      <td>0.0</td>\n",
              "      <td>Brazil</td>\n",
              "      <td>1928</td>\n",
              "      <td>5.927995</td>\n",
              "      <td>0.0</td>\n",
              "    </tr>\n",
              "    <tr>\n",
              "      <th>179</th>\n",
              "      <td>Mexico</td>\n",
              "      <td>1929</td>\n",
              "      <td>22.147959</td>\n",
              "      <td>0.0</td>\n",
              "      <td>Brazil</td>\n",
              "      <td>1929</td>\n",
              "      <td>6.345662</td>\n",
              "      <td>0.0</td>\n",
              "    </tr>\n",
              "    <tr>\n",
              "      <th>180</th>\n",
              "      <td>Mexico</td>\n",
              "      <td>1930</td>\n",
              "      <td>20.379168</td>\n",
              "      <td>0.0</td>\n",
              "      <td>Brazil</td>\n",
              "      <td>1930</td>\n",
              "      <td>5.513964</td>\n",
              "      <td>0.0</td>\n",
              "    </tr>\n",
              "    <tr>\n",
              "      <th>181</th>\n",
              "      <td>Mexico</td>\n",
              "      <td>1931</td>\n",
              "      <td>16.751808</td>\n",
              "      <td>0.0</td>\n",
              "      <td>Brazil</td>\n",
              "      <td>1931</td>\n",
              "      <td>4.168949</td>\n",
              "      <td>0.0</td>\n",
              "    </tr>\n",
              "    <tr>\n",
              "      <th>182</th>\n",
              "      <td>Mexico</td>\n",
              "      <td>1932</td>\n",
              "      <td>16.194880</td>\n",
              "      <td>0.0</td>\n",
              "      <td>Brazil</td>\n",
              "      <td>1932</td>\n",
              "      <td>4.169038</td>\n",
              "      <td>0.0</td>\n",
              "    </tr>\n",
              "    <tr>\n",
              "      <th>183</th>\n",
              "      <td>Mexico</td>\n",
              "      <td>1933</td>\n",
              "      <td>16.740816</td>\n",
              "      <td>0.0</td>\n",
              "      <td>Brazil</td>\n",
              "      <td>1933</td>\n",
              "      <td>4.722005</td>\n",
              "      <td>0.0</td>\n",
              "    </tr>\n",
              "    <tr>\n",
              "      <th>184</th>\n",
              "      <td>Mexico</td>\n",
              "      <td>1934</td>\n",
              "      <td>18.891584</td>\n",
              "      <td>0.0</td>\n",
              "      <td>Brazil</td>\n",
              "      <td>1934</td>\n",
              "      <td>4.622661</td>\n",
              "      <td>0.0</td>\n",
              "    </tr>\n",
              "    <tr>\n",
              "      <th>185</th>\n",
              "      <td>Mexico</td>\n",
              "      <td>1935</td>\n",
              "      <td>21.426062</td>\n",
              "      <td>0.0</td>\n",
              "      <td>Brazil</td>\n",
              "      <td>1935</td>\n",
              "      <td>5.509171</td>\n",
              "      <td>0.0</td>\n",
              "    </tr>\n",
              "    <tr>\n",
              "      <th>186</th>\n",
              "      <td>Mexico</td>\n",
              "      <td>1936</td>\n",
              "      <td>21.960857</td>\n",
              "      <td>0.0</td>\n",
              "      <td>Brazil</td>\n",
              "      <td>1936</td>\n",
              "      <td>5.145960</td>\n",
              "      <td>0.0</td>\n",
              "    </tr>\n",
              "    <tr>\n",
              "      <th>187</th>\n",
              "      <td>Mexico</td>\n",
              "      <td>1937</td>\n",
              "      <td>24.902811</td>\n",
              "      <td>0.0</td>\n",
              "      <td>Brazil</td>\n",
              "      <td>1937</td>\n",
              "      <td>6.087250</td>\n",
              "      <td>0.0</td>\n",
              "    </tr>\n",
              "    <tr>\n",
              "      <th>188</th>\n",
              "      <td>Mexico</td>\n",
              "      <td>1938</td>\n",
              "      <td>24.265156</td>\n",
              "      <td>0.0</td>\n",
              "      <td>Brazil</td>\n",
              "      <td>1938</td>\n",
              "      <td>6.094398</td>\n",
              "      <td>0.0</td>\n",
              "    </tr>\n",
              "    <tr>\n",
              "      <th>189</th>\n",
              "      <td>Mexico</td>\n",
              "      <td>1939</td>\n",
              "      <td>22.663840</td>\n",
              "      <td>0.0</td>\n",
              "      <td>Brazil</td>\n",
              "      <td>1939</td>\n",
              "      <td>5.947511</td>\n",
              "      <td>0.0</td>\n",
              "    </tr>\n",
              "    <tr>\n",
              "      <th>190</th>\n",
              "      <td>Mexico</td>\n",
              "      <td>1940</td>\n",
              "      <td>23.209479</td>\n",
              "      <td>0.0</td>\n",
              "      <td>Brazil</td>\n",
              "      <td>1940</td>\n",
              "      <td>6.485943</td>\n",
              "      <td>0.0</td>\n",
              "    </tr>\n",
              "    <tr>\n",
              "      <th>191</th>\n",
              "      <td>Mexico</td>\n",
              "      <td>1941</td>\n",
              "      <td>22.546087</td>\n",
              "      <td>0.0</td>\n",
              "      <td>Brazil</td>\n",
              "      <td>1941</td>\n",
              "      <td>6.280670</td>\n",
              "      <td>0.0</td>\n",
              "    </tr>\n",
              "    <tr>\n",
              "      <th>192</th>\n",
              "      <td>Mexico</td>\n",
              "      <td>1942</td>\n",
              "      <td>18.977143</td>\n",
              "      <td>0.0</td>\n",
              "      <td>Brazil</td>\n",
              "      <td>1942</td>\n",
              "      <td>5.866699</td>\n",
              "      <td>0.0</td>\n",
              "    </tr>\n",
              "    <tr>\n",
              "      <th>193</th>\n",
              "      <td>Mexico</td>\n",
              "      <td>1943</td>\n",
              "      <td>19.057781</td>\n",
              "      <td>0.0</td>\n",
              "      <td>Brazil</td>\n",
              "      <td>1943</td>\n",
              "      <td>6.474923</td>\n",
              "      <td>0.0</td>\n",
              "    </tr>\n",
              "    <tr>\n",
              "      <th>194</th>\n",
              "      <td>Mexico</td>\n",
              "      <td>1944</td>\n",
              "      <td>20.123886</td>\n",
              "      <td>0.0</td>\n",
              "      <td>Brazil</td>\n",
              "      <td>1944</td>\n",
              "      <td>5.895771</td>\n",
              "      <td>0.0</td>\n",
              "    </tr>\n",
              "    <tr>\n",
              "      <th>195</th>\n",
              "      <td>Mexico</td>\n",
              "      <td>1945</td>\n",
              "      <td>22.614871</td>\n",
              "      <td>0.0</td>\n",
              "      <td>Brazil</td>\n",
              "      <td>1945</td>\n",
              "      <td>6.822912</td>\n",
              "      <td>0.0</td>\n",
              "    </tr>\n",
              "    <tr>\n",
              "      <th>196</th>\n",
              "      <td>Mexico</td>\n",
              "      <td>1946</td>\n",
              "      <td>25.623044</td>\n",
              "      <td>0.0</td>\n",
              "      <td>Brazil</td>\n",
              "      <td>1946</td>\n",
              "      <td>7.460241</td>\n",
              "      <td>0.0</td>\n",
              "    </tr>\n",
              "    <tr>\n",
              "      <th>197</th>\n",
              "      <td>Mexico</td>\n",
              "      <td>1947</td>\n",
              "      <td>29.351927</td>\n",
              "      <td>0.0</td>\n",
              "      <td>Brazil</td>\n",
              "      <td>1947</td>\n",
              "      <td>8.947467</td>\n",
              "      <td>0.0</td>\n",
              "    </tr>\n",
              "    <tr>\n",
              "      <th>198</th>\n",
              "      <td>Mexico</td>\n",
              "      <td>1948</td>\n",
              "      <td>30.509423</td>\n",
              "      <td>0.0</td>\n",
              "      <td>Brazil</td>\n",
              "      <td>1948</td>\n",
              "      <td>7.847465</td>\n",
              "      <td>0.0</td>\n",
              "    </tr>\n",
              "    <tr>\n",
              "      <th>199</th>\n",
              "      <td>Mexico</td>\n",
              "      <td>1949</td>\n",
              "      <td>28.958958</td>\n",
              "      <td>0.0</td>\n",
              "      <td>Brazil</td>\n",
              "      <td>1949</td>\n",
              "      <td>7.366800</td>\n",
              "      <td>0.0</td>\n",
              "    </tr>\n",
              "  </tbody>\n",
              "</table>\n",
              "</div>\n",
              "      <button class=\"colab-df-convert\" onclick=\"convertToInteractive('df-26c7e7f0-f5f5-4922-b998-c7638545bc82')\"\n",
              "              title=\"Convert this dataframe to an interactive table.\"\n",
              "              style=\"display:none;\">\n",
              "        \n",
              "  <svg xmlns=\"http://www.w3.org/2000/svg\" height=\"24px\"viewBox=\"0 0 24 24\"\n",
              "       width=\"24px\">\n",
              "    <path d=\"M0 0h24v24H0V0z\" fill=\"none\"/>\n",
              "    <path d=\"M18.56 5.44l.94 2.06.94-2.06 2.06-.94-2.06-.94-.94-2.06-.94 2.06-2.06.94zm-11 1L8.5 8.5l.94-2.06 2.06-.94-2.06-.94L8.5 2.5l-.94 2.06-2.06.94zm10 10l.94 2.06.94-2.06 2.06-.94-2.06-.94-.94-2.06-.94 2.06-2.06.94z\"/><path d=\"M17.41 7.96l-1.37-1.37c-.4-.4-.92-.59-1.43-.59-.52 0-1.04.2-1.43.59L10.3 9.45l-7.72 7.72c-.78.78-.78 2.05 0 2.83L4 21.41c.39.39.9.59 1.41.59.51 0 1.02-.2 1.41-.59l7.78-7.78 2.81-2.81c.8-.78.8-2.07 0-2.86zM5.41 20L4 18.59l7.72-7.72 1.47 1.35L5.41 20z\"/>\n",
              "  </svg>\n",
              "      </button>\n",
              "      \n",
              "  <style>\n",
              "    .colab-df-container {\n",
              "      display:flex;\n",
              "      flex-wrap:wrap;\n",
              "      gap: 12px;\n",
              "    }\n",
              "\n",
              "    .colab-df-convert {\n",
              "      background-color: #E8F0FE;\n",
              "      border: none;\n",
              "      border-radius: 50%;\n",
              "      cursor: pointer;\n",
              "      display: none;\n",
              "      fill: #1967D2;\n",
              "      height: 32px;\n",
              "      padding: 0 0 0 0;\n",
              "      width: 32px;\n",
              "    }\n",
              "\n",
              "    .colab-df-convert:hover {\n",
              "      background-color: #E2EBFA;\n",
              "      box-shadow: 0px 1px 2px rgba(60, 64, 67, 0.3), 0px 1px 3px 1px rgba(60, 64, 67, 0.15);\n",
              "      fill: #174EA6;\n",
              "    }\n",
              "\n",
              "    [theme=dark] .colab-df-convert {\n",
              "      background-color: #3B4455;\n",
              "      fill: #D2E3FC;\n",
              "    }\n",
              "\n",
              "    [theme=dark] .colab-df-convert:hover {\n",
              "      background-color: #434B5C;\n",
              "      box-shadow: 0px 1px 3px 1px rgba(0, 0, 0, 0.15);\n",
              "      filter: drop-shadow(0px 1px 2px rgba(0, 0, 0, 0.3));\n",
              "      fill: #FFFFFF;\n",
              "    }\n",
              "  </style>\n",
              "\n",
              "      <script>\n",
              "        const buttonEl =\n",
              "          document.querySelector('#df-26c7e7f0-f5f5-4922-b998-c7638545bc82 button.colab-df-convert');\n",
              "        buttonEl.style.display =\n",
              "          google.colab.kernel.accessAllowed ? 'block' : 'none';\n",
              "\n",
              "        async function convertToInteractive(key) {\n",
              "          const element = document.querySelector('#df-26c7e7f0-f5f5-4922-b998-c7638545bc82');\n",
              "          const dataTable =\n",
              "            await google.colab.kernel.invokeFunction('convertToInteractive',\n",
              "                                                     [key], {});\n",
              "          if (!dataTable) return;\n",
              "\n",
              "          const docLinkHtml = 'Like what you see? Visit the ' +\n",
              "            '<a target=\"_blank\" href=https://colab.research.google.com/notebooks/data_table.ipynb>data table notebook</a>'\n",
              "            + ' to learn more about interactive tables.';\n",
              "          element.innerHTML = '';\n",
              "          dataTable['output_type'] = 'display_data';\n",
              "          await google.colab.output.renderOutput(dataTable, element);\n",
              "          const docLink = document.createElement('div');\n",
              "          docLink.innerHTML = docLinkHtml;\n",
              "          element.appendChild(docLink);\n",
              "        }\n",
              "      </script>\n",
              "    </div>\n",
              "  </div>\n",
              "  "
            ]
          },
          "metadata": {},
          "execution_count": 78
        }
      ]
    }
  ]
}